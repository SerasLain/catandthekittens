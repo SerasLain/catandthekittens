{
  "nbformat": 4,
  "nbformat_minor": 0,
  "metadata": {
    "colab": {
      "name": "CAT_collocates.ipynb",
      "version": "0.3.2",
      "provenance": [],
      "include_colab_link": true
    },
    "kernelspec": {
      "display_name": "Python 3",
      "language": "python",
      "name": "python3"
    }
  },
  "cells": [
    {
      "cell_type": "markdown",
      "metadata": {
        "id": "view-in-github",
        "colab_type": "text"
      },
      "source": [
        "<a href=\"https://colab.research.google.com/github/SerasLain/catandthekittens/blob/master/CAT_collocates.ipynb\" target=\"_parent\"><img src=\"https://colab.research.google.com/assets/colab-badge.svg\" alt=\"Open In Colab\"/></a>"
      ]
    },
    {
      "cell_type": "markdown",
      "metadata": {
        "id": "skHpTN2tTKm2",
        "colab_type": "text"
      },
      "source": [
        "# Поиск коллокаций в CAT"
      ]
    },
    {
      "cell_type": "markdown",
      "metadata": {
        "id": "kx4e223kCkoC",
        "colab_type": "text"
      },
      "source": [
        "А вообще-то код должен быть там https://github.com/MariaFjodorowa/catandthekittens/tree/develop/collocations"
      ]
    },
    {
      "cell_type": "code",
      "metadata": {
        "id": "8zXpdYp5vdOT",
        "colab_type": "code",
        "outputId": "87707dcf-6ff8-4cbf-b6df-af549c6de87b",
        "colab": {
          "base_uri": "https://localhost:8080/",
          "height": 122
        }
      },
      "source": [
        "# Connection to my Google Drive\n",
        "from google.colab import drive\n",
        "drive.mount('/content/gdrive')\n",
        "\n",
        "# Some useful paths\n",
        "cat_d = '/content/gdrive/My Drive/CAT/'\n",
        "cat_together = cat_d + 'Склеенные/'\n",
        "cat_cleaned = cat_d + 'Cleaned/'\n",
        "cat_conllu = '/content/gdrive/My Drive/Новые conll по доменам/NewVers/'"
      ],
      "execution_count": 0,
      "outputs": [
        {
          "output_type": "stream",
          "text": [
            "Go to this URL in a browser: https://accounts.google.com/o/oauth2/auth?client_id=947318989803-6bn6qk8qdgf4n4g3pfee6491hc0brc4i.apps.googleusercontent.com&redirect_uri=urn%3Aietf%3Awg%3Aoauth%3A2.0%3Aoob&scope=email%20https%3A%2F%2Fwww.googleapis.com%2Fauth%2Fdocs.test%20https%3A%2F%2Fwww.googleapis.com%2Fauth%2Fdrive%20https%3A%2F%2Fwww.googleapis.com%2Fauth%2Fdrive.photos.readonly%20https%3A%2F%2Fwww.googleapis.com%2Fauth%2Fpeopleapi.readonly&response_type=code\n",
            "\n",
            "Enter your authorization code:\n",
            "··········\n",
            "Mounted at /content/gdrive\n"
          ],
          "name": "stdout"
        }
      ]
    },
    {
      "cell_type": "markdown",
      "metadata": {
        "id": "S5Hf6Uflu3nc",
        "colab_type": "text"
      },
      "source": [
        "## Препроцессинг нового корпуса"
      ]
    },
    {
      "cell_type": "code",
      "metadata": {
        "id": "1RyDosXdUcs6",
        "colab_type": "code",
        "colab": {}
      },
      "source": [
        "import os\n",
        "import re\n",
        "import nltk\n",
        "from nltk.corpus import stopwords\n"
      ],
      "execution_count": 0,
      "outputs": []
    },
    {
      "cell_type": "code",
      "metadata": {
        "id": "KjbX6HCAiohz",
        "colab_type": "code",
        "outputId": "3c466b98-2655-4bf2-87da-c376b51ef718",
        "colab": {
          "base_uri": "https://localhost:8080/",
          "height": 68
        }
      },
      "source": [
        "nltk.download('punkt')"
      ],
      "execution_count": 0,
      "outputs": [
        {
          "output_type": "stream",
          "text": [
            "[nltk_data] Downloading package punkt to /root/nltk_data...\n",
            "[nltk_data]   Unzipping tokenizers/punkt.zip.\n"
          ],
          "name": "stdout"
        },
        {
          "output_type": "execute_result",
          "data": {
            "text/plain": [
              "True"
            ]
          },
          "metadata": {
            "tags": []
          },
          "execution_count": 18
        }
      ]
    },
    {
      "cell_type": "code",
      "metadata": {
        "id": "aSLU4aYAb4BA",
        "colab_type": "code",
        "outputId": "c834b680-4f16-4eb0-f54f-7c498e364292",
        "colab": {
          "base_uri": "https://localhost:8080/",
          "height": 54
        }
      },
      "source": [
        "# Connection to my Google Drive\n",
        "from google.colab import drive\n",
        "drive.mount('/content/gdrive')"
      ],
      "execution_count": 0,
      "outputs": [
        {
          "output_type": "stream",
          "text": [
            "Drive already mounted at /content/gdrive; to attempt to forcibly remount, call drive.mount(\"/content/gdrive\", force_remount=True).\n"
          ],
          "name": "stdout"
        }
      ]
    },
    {
      "cell_type": "code",
      "metadata": {
        "id": "9NBYgWuAc1nc",
        "colab_type": "code",
        "outputId": "bad934de-b0d7-42d6-85b6-9fa97ea52db5",
        "colab": {
          "base_uri": "https://localhost:8080/",
          "height": 34
        }
      },
      "source": [
        "# Файл с целиковым корпусом проще записать из остальных файлов, чем препроцессить отдельно\n",
        "cat_d = '/content/gdrive/My Drive/CAT/'\n",
        "cat_together = cat_d + 'Склеенные/'\n",
        "files = os.listdir(cat_together)\n",
        "files.pop(0)\n"
      ],
      "execution_count": 0,
      "outputs": [
        {
          "output_type": "execute_result",
          "data": {
            "text/plain": [
              "'CAT.txt'"
            ]
          },
          "metadata": {
            "tags": []
          },
          "execution_count": 14
        }
      ]
    },
    {
      "cell_type": "code",
      "metadata": {
        "id": "ujfPxFuadFGo",
        "colab_type": "code",
        "colab": {}
      },
      "source": [
        "#From https://github.com/MariaFjodorowa/catandthekittens/blob/develop/CYBERsuffering/Preprocessing%20and%20modelling%20example.ipynb\n",
        "# by Alex Klimov\n",
        "#относительно хороший результат чистки корпуса\n",
        "stopwords = ['б', 'г', 'д', 'е', 'ё', 'ж', 'з', 'й', 'л', 'м', 'н', 'п', 'р', 'т', 'ф', 'х', 'ц', 'ч', 'ш', 'щ', 'ъ', 'ы', 'ь', 'э', 'ю', 'гг']\n",
        "tokenizer = nltk.data.load('tokenizers/punkt/english.pickle')\n",
        "goal_d = cat_d + 'Cleaned/'\n",
        "if not os.path.exists(goal_d):\n",
        "  os.mkdir(goal_d)\n",
        "work_d = cat_together\n",
        "for i, file in enumerate(files):\n",
        "    text = os.path.abspath(cat_together + file)\n",
        "    with open(text, 'r', encoding = 'utf-8') as t:\n",
        "      txt = t.read()  \n",
        "    txt = txt.lower()\n",
        "    tokenized_text = tokenizer.tokenize(txt)\n",
        "    lst = []\n",
        "    for tryingtoclean in tokenized_text:\n",
        "        tryingtoclean = re.sub('(данные об авторе)(\\.)?.*', '', tryingtoclean, flags=re.S)\n",
        "        tryingtoclean = re.sub(r'[a-zA-z]', '', tryingtoclean)\n",
        "        tryingtoclean = re.sub(r'_', '', tryingtoclean)\n",
        "        tryingtoclean = re.sub(r'\\d', '', tryingtoclean)\n",
        "        tryingtoclean = re.sub(r'[ñâÿçàíšßãóìøþôõýæùúñî¹áîřðûɫɥɨêɜǎäiöüéɨïіïëèåòè]', '', tryingtoclean)\n",
        "        words = re.findall(r'\\w+', tryingtoclean)\n",
        "        clean = filter(lambda a: a not in stopwords, words)\n",
        "        x = ' '.join(clean).rstrip()\n",
        "        lst.append(x)\n",
        "    xxx = '. '.join(lst).rstrip() + '.'\n",
        "    dotpattern = re.compile(r'(\\. \\.)+')\n",
        "    xxx = re.sub(dotpattern, '', xxx)\n",
        "    spacepattern = re.compile(r'(  )+')\n",
        "    xxx = re.sub(spacepattern, '', xxx)\n",
        "    dotpattern2 = re.compile(r'( \\.)+')\n",
        "    xxx = re.sub(dotpattern2, '', xxx)\n",
        "# Отсюда убран небольшой кусок кода, поскольку он ошибочно срабатывал на строках типа \"однако он\", превращая их в \"однакн\"\n",
        "    goal_f = open(goal_d + file, 'w', encoding = 'utf-8')\n",
        "    goal_f.write(xxx)\n",
        "    goal_f.close()"
      ],
      "execution_count": 0,
      "outputs": []
    },
    {
      "cell_type": "code",
      "metadata": {
        "id": "Zm88UqOAl9GH",
        "colab_type": "code",
        "outputId": "0ee671f9-4179-41d5-fb04-60fca35220a1",
        "colab": {
          "base_uri": "https://localhost:8080/",
          "height": 54
        }
      },
      "source": [
        "# Checking out\n",
        "with open(goal_d + 'Economics.txt') as f:\n",
        "  t = f.read()\n",
        "  \n",
        "print(t[:500])"
      ],
      "execution_count": 0,
      "outputs": [
        {
          "output_type": "stream",
          "text": [
            "введение в в российской экономике начался восстановительный рост. однако он остается слабым и неустойчивым при этом сохраняются угрозы новой рецессии статья подготовлена при финансовой поддержке рффи проект санкт петербургский государственный университет вестник санкт петербургского университета. вып. экономика шедших десятилетия россия пережила три циклических спада характерных для среднесрочных колебаний капиталистической экономики. при всех существенных отличиях свойственных этим кризисам в п\n"
          ],
          "name": "stdout"
        }
      ]
    },
    {
      "cell_type": "code",
      "metadata": {
        "id": "8Yb-H6mmTKm_",
        "colab_type": "code",
        "colab": {}
      },
      "source": [
        "# preprocessing\n",
        "\n",
        "\n",
        "#Склеиваем все тексты в один файл для каждого домена, а потом эти файлы в один общий для всего корпуса.\n",
        "\n",
        "def make_raws(root=cat_d):\n",
        "    failed = []\n",
        "    for d in os.listdir(root):\n",
        "        with open((os.path.join(root, d) + r'.txt'), 'a', encoding='utf-8') as domain:\n",
        "            for f in os.listdir(os.path.join(root, d)):\n",
        "                print(f)\n",
        "                with open(os.path.join(root, d, f), 'r', encoding='utf-8') as t:\n",
        "                    try:\n",
        "                        text = t.read()\n",
        "                        domain.write(text)\n",
        "                        domain.write('\\n')\n",
        "                    except UnicodeDecodeError:\n",
        "                        failed.append(os.path.join(root, d, f))\n",
        "    print(failed)\n",
        "    \n",
        "make_raws()"
      ],
      "execution_count": 0,
      "outputs": []
    },
    {
      "cell_type": "code",
      "metadata": {
        "id": "sXRPvaTjTKnh",
        "colab_type": "code",
        "colab": {}
      },
      "source": [
        "def make_corpus(root='.'):\n",
        "    for root, dirs, files in os.walk(root):\n",
        "        for f in files:\n",
        "            with open(os.path.join(root, 'CAT.txt'), 'a', encoding='utf8') as corpora:\n",
        "                with open(os.path.join(root, f), 'r', encoding='utf8', errors='ignore') as f:\n",
        "                    domain = f.read()\n",
        "                corpora.write(domain)"
      ],
      "execution_count": 0,
      "outputs": []
    },
    {
      "cell_type": "code",
      "metadata": {
        "id": "-r763BqSqfJ1",
        "colab_type": "code",
        "colab": {}
      },
      "source": [
        "make_corpus(root=goal_d)"
      ],
      "execution_count": 0,
      "outputs": []
    },
    {
      "cell_type": "markdown",
      "metadata": {
        "id": "XQcSLoLG78OX",
        "colab_type": "text"
      },
      "source": [
        "## Разметка UDpipe\n",
        "  by A. Klimov. (модель?)\n",
        "  \n",
        "  Довольно корявая: личные имена-фамилии очень плохо парсятся, причем нет такого тэга как Proper noun (или есть, но я не нашла). Синтаксис ну очень паршиво работает: много мусора и неправильно разрешенной омонимии.\n",
        "  \n",
        "  Саша всё сделал, лежит на гугл-диске в папке новые conll по доменам.\n",
        "  \n",
        "  Ниже находится код для работы с гугл-диском. (Ignore it)"
      ]
    },
    {
      "cell_type": "code",
      "metadata": {
        "id": "h2r1fgyvBsmH",
        "colab_type": "code",
        "outputId": "81b53ec0-5e68-4534-b04b-c9daddcca4f8",
        "colab": {
          "base_uri": "https://localhost:8080/",
          "height": 51
        }
      },
      "source": [
        "# Install the PyDrive wrapper & import libraries.\n",
        "# This only needs to be done once per notebook.\n",
        "!pip install -U -q PyDrive\n",
        "from pydrive.auth import GoogleAuth\n",
        "from pydrive.drive import GoogleDrive\n",
        "from google.colab import auth\n",
        "from oauth2client.client import GoogleCredentials\n",
        "\n",
        "# Authenticate and create the PyDrive client.\n",
        "# This only needs to be done once per notebook.\n",
        "auth.authenticate_user()\n",
        "gauth = GoogleAuth()\n",
        "gauth.credentials = GoogleCredentials.get_application_default()\n",
        "drive = GoogleDrive(gauth)"
      ],
      "execution_count": 0,
      "outputs": [
        {
          "output_type": "stream",
          "text": [
            "\u001b[?25l\r\u001b[K    1% |▎                               | 10kB 21.7MB/s eta 0:00:01\r\u001b[K    2% |▋                               | 20kB 1.8MB/s eta 0:00:01\r\u001b[K    3% |█                               | 30kB 2.6MB/s eta 0:00:01\r\u001b[K    4% |█▎                              | 40kB 1.7MB/s eta 0:00:01\r\u001b[K    5% |█▋                              | 51kB 2.1MB/s eta 0:00:01\r\u001b[K    6% |██                              | 61kB 2.5MB/s eta 0:00:01\r\u001b[K    7% |██▎                             | 71kB 2.9MB/s eta 0:00:01\r\u001b[K    8% |██▋                             | 81kB 3.3MB/s eta 0:00:01\r\u001b[K    9% |███                             | 92kB 3.6MB/s eta 0:00:01\r\u001b[K    10% |███▎                            | 102kB 2.8MB/s eta 0:00:01\r\u001b[K    11% |███▋                            | 112kB 2.8MB/s eta 0:00:01\r\u001b[K    12% |████                            | 122kB 4.0MB/s eta 0:00:01\r\u001b[K    13% |████▎                           | 133kB 4.0MB/s eta 0:00:01\r\u001b[K    14% |████▋                           | 143kB 7.4MB/s eta 0:00:01\r\u001b[K    15% |█████                           | 153kB 7.5MB/s eta 0:00:01\r\u001b[K    16% |█████▎                          | 163kB 7.4MB/s eta 0:00:01\r\u001b[K    17% |█████▋                          | 174kB 7.4MB/s eta 0:00:01\r\u001b[K    18% |██████                          | 184kB 7.4MB/s eta 0:00:01\r\u001b[K    19% |██████▎                         | 194kB 7.4MB/s eta 0:00:01\r\u001b[K    20% |██████▋                         | 204kB 32.2MB/s eta 0:00:01\r\u001b[K    21% |███████                         | 215kB 8.4MB/s eta 0:00:01\r\u001b[K    22% |███████▎                        | 225kB 8.4MB/s eta 0:00:01\r\u001b[K    23% |███████▋                        | 235kB 8.5MB/s eta 0:00:01\r\u001b[K    24% |████████                        | 245kB 8.5MB/s eta 0:00:01\r\u001b[K    25% |████████▎                       | 256kB 8.6MB/s eta 0:00:01\r\u001b[K    26% |████████▋                       | 266kB 8.4MB/s eta 0:00:01\r\u001b[K    27% |█████████                       | 276kB 8.6MB/s eta 0:00:01\r\u001b[K    29% |█████████▎                      | 286kB 8.6MB/s eta 0:00:01\r\u001b[K    30% |█████████▋                      | 296kB 8.7MB/s eta 0:00:01\r\u001b[K    31% |██████████                      | 307kB 9.1MB/s eta 0:00:01\r\u001b[K    32% |██████████▎                     | 317kB 50.0MB/s eta 0:00:01\r\u001b[K    33% |██████████▋                     | 327kB 8.2MB/s eta 0:00:01\r\u001b[K    34% |███████████                     | 337kB 8.2MB/s eta 0:00:01\r\u001b[K    35% |███████████▎                    | 348kB 8.1MB/s eta 0:00:01\r\u001b[K    36% |███████████▋                    | 358kB 8.0MB/s eta 0:00:01\r\u001b[K    37% |████████████                    | 368kB 8.2MB/s eta 0:00:01\r\u001b[K    38% |████████████▎                   | 378kB 8.2MB/s eta 0:00:01\r\u001b[K    39% |████████████▋                   | 389kB 8.2MB/s eta 0:00:01\r\u001b[K    40% |█████████████                   | 399kB 8.2MB/s eta 0:00:01\r\u001b[K    41% |█████████████▎                  | 409kB 8.2MB/s eta 0:00:01\r\u001b[K    42% |█████████████▋                  | 419kB 8.2MB/s eta 0:00:01\r\u001b[K    43% |██████████████                  | 430kB 49.3MB/s eta 0:00:01\r\u001b[K    44% |██████████████▎                 | 440kB 50.3MB/s eta 0:00:01\r\u001b[K    45% |██████████████▋                 | 450kB 53.6MB/s eta 0:00:01\r\u001b[K    46% |███████████████                 | 460kB 57.2MB/s eta 0:00:01\r\u001b[K    47% |███████████████▎                | 471kB 58.2MB/s eta 0:00:01\r\u001b[K    48% |███████████████▋                | 481kB 58.7MB/s eta 0:00:01\r\u001b[K    49% |████████████████                | 491kB 58.4MB/s eta 0:00:01\r\u001b[K    50% |████████████████▎               | 501kB 58.6MB/s eta 0:00:01\r\u001b[K    51% |████████████████▋               | 512kB 9.3MB/s eta 0:00:01\r\u001b[K    52% |█████████████████               | 522kB 9.3MB/s eta 0:00:01\r\u001b[K    53% |█████████████████▎              | 532kB 9.3MB/s eta 0:00:01\r\u001b[K    54% |█████████████████▋              | 542kB 9.2MB/s eta 0:00:01\r\u001b[K    55% |██████████████████              | 552kB 9.3MB/s eta 0:00:01\r\u001b[K    57% |██████████████████▎             | 563kB 9.3MB/s eta 0:00:01\r\u001b[K    58% |██████████████████▋             | 573kB 9.2MB/s eta 0:00:01\r\u001b[K    59% |███████████████████             | 583kB 9.2MB/s eta 0:00:01\r\u001b[K    60% |███████████████████▎            | 593kB 9.2MB/s eta 0:00:01\r\u001b[K    61% |███████████████████▋            | 604kB 9.2MB/s eta 0:00:01\r\u001b[K    62% |████████████████████            | 614kB 56.1MB/s eta 0:00:01\r\u001b[K    63% |████████████████████▎           | 624kB 58.2MB/s eta 0:00:01\r\u001b[K    64% |████████████████████▋           | 634kB 57.7MB/s eta 0:00:01\r\u001b[K    65% |█████████████████████           | 645kB 57.4MB/s eta 0:00:01\r\u001b[K    66% |█████████████████████▎          | 655kB 59.0MB/s eta 0:00:01\r\u001b[K    67% |█████████████████████▋          | 665kB 46.6MB/s eta 0:00:01\r\u001b[K    68% |██████████████████████          | 675kB 47.5MB/s eta 0:00:01\r\u001b[K    69% |██████████████████████▎         | 686kB 47.8MB/s eta 0:00:01\r\u001b[K    70% |██████████████████████▋         | 696kB 48.0MB/s eta 0:00:01\r\u001b[K    71% |███████████████████████         | 706kB 47.7MB/s eta 0:00:01\r\u001b[K    72% |███████████████████████▎        | 716kB 48.0MB/s eta 0:00:01\r\u001b[K    73% |███████████████████████▋        | 727kB 47.3MB/s eta 0:00:01\r\u001b[K    74% |████████████████████████        | 737kB 47.6MB/s eta 0:00:01\r\u001b[K    75% |████████████████████████▎       | 747kB 48.1MB/s eta 0:00:01\r\u001b[K    76% |████████████████████████▋       | 757kB 48.2MB/s eta 0:00:01\r\u001b[K    77% |████████████████████████▉       | 768kB 64.8MB/s eta 0:00:01\r\u001b[K    78% |█████████████████████████▏      | 778kB 65.1MB/s eta 0:00:01\r\u001b[K    79% |█████████████████████████▌      | 788kB 62.2MB/s eta 0:00:01\r\u001b[K    80% |█████████████████████████▉      | 798kB 61.6MB/s eta 0:00:01\r\u001b[K    81% |██████████████████████████▏     | 808kB 61.1MB/s eta 0:00:01\r\u001b[K    82% |██████████████████████████▌     | 819kB 60.3MB/s eta 0:00:01\r\u001b[K    83% |██████████████████████████▉     | 829kB 62.0MB/s eta 0:00:01\r\u001b[K    85% |███████████████████████████▏    | 839kB 62.8MB/s eta 0:00:01\r\u001b[K    86% |███████████████████████████▌    | 849kB 61.5MB/s eta 0:00:01\r\u001b[K    87% |███████████████████████████▉    | 860kB 54.6MB/s eta 0:00:01\r\u001b[K    88% |████████████████████████████▏   | 870kB 53.9MB/s eta 0:00:01\r\u001b[K    89% |████████████████████████████▌   | 880kB 55.0MB/s eta 0:00:01\r\u001b[K    90% |████████████████████████████▉   | 890kB 57.1MB/s eta 0:00:01\r\u001b[K    91% |█████████████████████████████▏  | 901kB 56.5MB/s eta 0:00:01\r\u001b[K    92% |█████████████████████████████▌  | 911kB 56.9MB/s eta 0:00:01\r\u001b[K    93% |█████████████████████████████▉  | 921kB 57.2MB/s eta 0:00:01\r\u001b[K    94% |██████████████████████████████▏ | 931kB 57.4MB/s eta 0:00:01\r\u001b[K    95% |██████████████████████████████▌ | 942kB 57.5MB/s eta 0:00:01\r\u001b[K    96% |██████████████████████████████▉ | 952kB 58.3MB/s eta 0:00:01\r\u001b[K    97% |███████████████████████████████▏| 962kB 66.4MB/s eta 0:00:01\r\u001b[K    98% |███████████████████████████████▌| 972kB 66.4MB/s eta 0:00:01\r\u001b[K    99% |███████████████████████████████▉| 983kB 65.0MB/s eta 0:00:01\r\u001b[K    100% |████████████████████████████████| 993kB 21.1MB/s \n",
            "\u001b[?25h  Building wheel for PyDrive (setup.py) ... \u001b[?25ldone\n",
            "\u001b[?25h"
          ],
          "name": "stdout"
        }
      ]
    },
    {
      "cell_type": "code",
      "metadata": {
        "id": "yGf5dX_uCwAq",
        "colab_type": "code",
        "outputId": "36bb41d5-3ed3-4a30-d0c5-29b5f19929e9",
        "colab": {
          "base_uri": "https://localhost:8080/",
          "height": 54
        }
      },
      "source": [
        "address = r'https://drive.google.com/drive/folders/164afzH3s2fItPvW8hZzToZo1X3KcHCSC'\n",
        "\n",
        "# List .txt files in the root.\n",
        "#\n",
        "# Search query reference:\n",
        "# https://developers.google.com/drive/v2/web/search-parameters\n",
        "listed = drive.ListFile({'q': \"title contains '.txt' and 'root' in parents\"}).GetList()\n",
        "print(listed)"
      ],
      "execution_count": 0,
      "outputs": [
        {
          "output_type": "stream",
          "text": [
            "[GoogleDriveFile({'kind': 'drive#file', 'id': '1pgdOd_je-5xe0WvX6kqHAyBcFgw943KK29JB2JRdl3Y', 'etag': '\"LIfz66WQFJW5vkUY9zfkRsF1GXw/MTUxNjAzMTcxNDM3OA\"', 'selfLink': 'https://www.googleapis.com/drive/v2/files/1pgdOd_je-5xe0WvX6kqHAyBcFgw943KK29JB2JRdl3Y', 'webContentLink': 'https://drive.google.com/uc?id=1pgdOd_je-5xe0WvX6kqHAyBcFgw943KK29JB2JRdl3Y&export=download', 'alternateLink': 'https://docs.google.com/document/d/1pgdOd_je-5xe0WvX6kqHAyBcFgw943KK29JB2JRdl3Y/edit?usp=drivesdk', 'embedLink': 'https://docs.google.com/document/d/1pgdOd_je-5xe0WvX6kqHAyBcFgw943KK29JB2JRdl3Y/preview?ouid=112440367154326798730', 'iconLink': 'https://drive-thirdparty.googleusercontent.com/16/type/application/vnd.google-apps.document', 'thumbnailLink': 'https://docs.google.com/feeds/vt?gd=true&id=1pgdOd_je-5xe0WvX6kqHAyBcFgw943KK29JB2JRdl3Y&v=1&s=AMedNnoAAAAAXI9-a-fRBOktJUY8bC4KiTc7dlRfj1bM&sz=s220', 'title': 'группы.txt', 'mimeType': 'application/vnd.google-apps.document', 'labels': {'starred': False, 'hidden': False, 'trashed': True, 'restricted': False, 'viewed': True}, 'copyRequiresWriterPermission': False, 'createdDate': '2018-01-15T15:55:13.096Z', 'modifiedDate': '2018-01-15T15:55:14.378Z', 'modifiedByMeDate': '2018-01-15T15:55:14.378Z', 'lastViewedByMeDate': '2018-01-15T15:55:48.342Z', 'markedViewedByMeDate': '1970-01-01T00:00:00.000Z', 'version': '12', 'parents': [{'kind': 'drive#parentReference', 'id': '0ADEgNkVBnu8aUk9PVA', 'selfLink': 'https://www.googleapis.com/drive/v2/files/1pgdOd_je-5xe0WvX6kqHAyBcFgw943KK29JB2JRdl3Y/parents/0ADEgNkVBnu8aUk9PVA', 'parentLink': 'https://www.googleapis.com/drive/v2/files/0ADEgNkVBnu8aUk9PVA', 'isRoot': True}], 'exportLinks': {'application/rtf': 'https://docs.google.com/feeds/download/documents/export/Export?id=1pgdOd_je-5xe0WvX6kqHAyBcFgw943KK29JB2JRdl3Y&exportFormat=rtf', 'application/vnd.oasis.opendocument.text': 'https://docs.google.com/feeds/download/documents/export/Export?id=1pgdOd_je-5xe0WvX6kqHAyBcFgw943KK29JB2JRdl3Y&exportFormat=odt', 'text/html': 'https://docs.google.com/feeds/download/documents/export/Export?id=1pgdOd_je-5xe0WvX6kqHAyBcFgw943KK29JB2JRdl3Y&exportFormat=html', 'application/pdf': 'https://docs.google.com/feeds/download/documents/export/Export?id=1pgdOd_je-5xe0WvX6kqHAyBcFgw943KK29JB2JRdl3Y&exportFormat=pdf', 'application/epub+zip': 'https://docs.google.com/feeds/download/documents/export/Export?id=1pgdOd_je-5xe0WvX6kqHAyBcFgw943KK29JB2JRdl3Y&exportFormat=epub', 'application/zip': 'https://docs.google.com/feeds/download/documents/export/Export?id=1pgdOd_je-5xe0WvX6kqHAyBcFgw943KK29JB2JRdl3Y&exportFormat=zip', 'application/vnd.openxmlformats-officedocument.wordprocessingml.document': 'https://docs.google.com/feeds/download/documents/export/Export?id=1pgdOd_je-5xe0WvX6kqHAyBcFgw943KK29JB2JRdl3Y&exportFormat=docx', 'text/plain': 'https://docs.google.com/feeds/download/documents/export/Export?id=1pgdOd_je-5xe0WvX6kqHAyBcFgw943KK29JB2JRdl3Y&exportFormat=txt'}, 'userPermission': {'kind': 'drive#permission', 'etag': '\"LIfz66WQFJW5vkUY9zfkRsF1GXw/LnsI4oHna4hfxmeXS6G4QO0YVx4\"', 'id': 'me', 'selfLink': 'https://www.googleapis.com/drive/v2/files/1pgdOd_je-5xe0WvX6kqHAyBcFgw943KK29JB2JRdl3Y/permissions/me', 'role': 'owner', 'type': 'user'}, 'quotaBytesUsed': '0', 'ownerNames': ['Анастасия Сидорова'], 'owners': [{'kind': 'drive#user', 'displayName': 'Анастасия Сидорова', 'picture': {'url': 'https://lh6.googleusercontent.com/-XzVaXWrv540/AAAAAAAAAAI/AAAAAAAAABE/fhmzJD0vbOc/s64/photo.jpg'}, 'isAuthenticatedUser': True, 'permissionId': '03290400170970154519', 'emailAddress': 'seraslain@gmail.com'}], 'lastModifyingUserName': 'Анастасия Сидорова', 'lastModifyingUser': {'kind': 'drive#user', 'displayName': 'Анастасия Сидорова', 'picture': {'url': 'https://lh6.googleusercontent.com/-XzVaXWrv540/AAAAAAAAAAI/AAAAAAAAABE/fhmzJD0vbOc/s64/photo.jpg'}, 'isAuthenticatedUser': True, 'permissionId': '03290400170970154519', 'emailAddress': 'seraslain@gmail.com'}, 'capabilities': {'canCopy': True, 'canEdit': True}, 'editable': True, 'copyable': True, 'writersCanShare': True, 'shared': False, 'explicitlyTrashed': True, 'appDataContents': False, 'spaces': ['drive']}), GoogleDriveFile({'kind': 'drive#file', 'id': '1dTAd2NWDlUOcdFpT1TMJHKRTiaLhbBYJCobID1MEKS4', 'etag': '\"LIfz66WQFJW5vkUY9zfkRsF1GXw/MTUwNDQyODE0OTI1NQ\"', 'selfLink': 'https://www.googleapis.com/drive/v2/files/1dTAd2NWDlUOcdFpT1TMJHKRTiaLhbBYJCobID1MEKS4', 'webContentLink': 'https://drive.google.com/uc?id=1dTAd2NWDlUOcdFpT1TMJHKRTiaLhbBYJCobID1MEKS4&export=download', 'alternateLink': 'https://docs.google.com/document/d/1dTAd2NWDlUOcdFpT1TMJHKRTiaLhbBYJCobID1MEKS4/edit?usp=drivesdk', 'embedLink': 'https://docs.google.com/document/d/1dTAd2NWDlUOcdFpT1TMJHKRTiaLhbBYJCobID1MEKS4/preview?ouid=112440367154326798730', 'iconLink': 'https://drive-thirdparty.googleusercontent.com/16/type/application/vnd.google-apps.document', 'thumbnailLink': 'https://docs.google.com/feeds/vt?gd=true&id=1dTAd2NWDlUOcdFpT1TMJHKRTiaLhbBYJCobID1MEKS4&v=1&s=AMedNnoAAAAAXI9-aydNO0RyMe0OVdqKAy74qgulT4lv&sz=s220', 'title': 'Лингвоэкономика.txt', 'mimeType': 'application/vnd.google-apps.document', 'labels': {'starred': False, 'hidden': False, 'trashed': True, 'restricted': False, 'viewed': True}, 'copyRequiresWriterPermission': False, 'createdDate': '2017-09-03T08:42:27.770Z', 'modifiedDate': '2017-09-03T08:42:29.255Z', 'modifiedByMeDate': '2017-09-03T08:42:29.255Z', 'lastViewedByMeDate': '2017-09-03T08:44:43.376Z', 'markedViewedByMeDate': '1970-01-01T00:00:00.000Z', 'version': '11', 'parents': [{'kind': 'drive#parentReference', 'id': '0ADEgNkVBnu8aUk9PVA', 'selfLink': 'https://www.googleapis.com/drive/v2/files/1dTAd2NWDlUOcdFpT1TMJHKRTiaLhbBYJCobID1MEKS4/parents/0ADEgNkVBnu8aUk9PVA', 'parentLink': 'https://www.googleapis.com/drive/v2/files/0ADEgNkVBnu8aUk9PVA', 'isRoot': True}], 'exportLinks': {'application/rtf': 'https://docs.google.com/feeds/download/documents/export/Export?id=1dTAd2NWDlUOcdFpT1TMJHKRTiaLhbBYJCobID1MEKS4&exportFormat=rtf', 'application/vnd.oasis.opendocument.text': 'https://docs.google.com/feeds/download/documents/export/Export?id=1dTAd2NWDlUOcdFpT1TMJHKRTiaLhbBYJCobID1MEKS4&exportFormat=odt', 'text/html': 'https://docs.google.com/feeds/download/documents/export/Export?id=1dTAd2NWDlUOcdFpT1TMJHKRTiaLhbBYJCobID1MEKS4&exportFormat=html', 'application/pdf': 'https://docs.google.com/feeds/download/documents/export/Export?id=1dTAd2NWDlUOcdFpT1TMJHKRTiaLhbBYJCobID1MEKS4&exportFormat=pdf', 'application/epub+zip': 'https://docs.google.com/feeds/download/documents/export/Export?id=1dTAd2NWDlUOcdFpT1TMJHKRTiaLhbBYJCobID1MEKS4&exportFormat=epub', 'application/zip': 'https://docs.google.com/feeds/download/documents/export/Export?id=1dTAd2NWDlUOcdFpT1TMJHKRTiaLhbBYJCobID1MEKS4&exportFormat=zip', 'application/vnd.openxmlformats-officedocument.wordprocessingml.document': 'https://docs.google.com/feeds/download/documents/export/Export?id=1dTAd2NWDlUOcdFpT1TMJHKRTiaLhbBYJCobID1MEKS4&exportFormat=docx', 'text/plain': 'https://docs.google.com/feeds/download/documents/export/Export?id=1dTAd2NWDlUOcdFpT1TMJHKRTiaLhbBYJCobID1MEKS4&exportFormat=txt'}, 'userPermission': {'kind': 'drive#permission', 'etag': '\"LIfz66WQFJW5vkUY9zfkRsF1GXw/-C7BI4lqkSTFG6DiVew5t-P_wdU\"', 'id': 'me', 'selfLink': 'https://www.googleapis.com/drive/v2/files/1dTAd2NWDlUOcdFpT1TMJHKRTiaLhbBYJCobID1MEKS4/permissions/me', 'role': 'owner', 'type': 'user'}, 'quotaBytesUsed': '0', 'ownerNames': ['Анастасия Сидорова'], 'owners': [{'kind': 'drive#user', 'displayName': 'Анастасия Сидорова', 'picture': {'url': 'https://lh6.googleusercontent.com/-XzVaXWrv540/AAAAAAAAAAI/AAAAAAAAABE/fhmzJD0vbOc/s64/photo.jpg'}, 'isAuthenticatedUser': True, 'permissionId': '03290400170970154519', 'emailAddress': 'seraslain@gmail.com'}], 'lastModifyingUserName': 'Анастасия Сидорова', 'lastModifyingUser': {'kind': 'drive#user', 'displayName': 'Анастасия Сидорова', 'picture': {'url': 'https://lh6.googleusercontent.com/-XzVaXWrv540/AAAAAAAAAAI/AAAAAAAAABE/fhmzJD0vbOc/s64/photo.jpg'}, 'isAuthenticatedUser': True, 'permissionId': '03290400170970154519', 'emailAddress': 'seraslain@gmail.com'}, 'capabilities': {'canCopy': True, 'canEdit': True}, 'editable': True, 'copyable': True, 'writersCanShare': True, 'shared': False, 'explicitlyTrashed': True, 'appDataContents': False, 'spaces': ['drive']}), GoogleDriveFile({'kind': 'drive#file', 'id': '1ci8jXGmUPEfYSDKSFH7xdIejlw3IvoAxF8M6tTtyjZM', 'etag': '\"LIfz66WQFJW5vkUY9zfkRsF1GXw/MTUwNDQyODAzMTY2OA\"', 'selfLink': 'https://www.googleapis.com/drive/v2/files/1ci8jXGmUPEfYSDKSFH7xdIejlw3IvoAxF8M6tTtyjZM', 'webContentLink': 'https://drive.google.com/uc?id=1ci8jXGmUPEfYSDKSFH7xdIejlw3IvoAxF8M6tTtyjZM&export=download', 'alternateLink': 'https://docs.google.com/document/d/1ci8jXGmUPEfYSDKSFH7xdIejlw3IvoAxF8M6tTtyjZM/edit?usp=drivesdk', 'embedLink': 'https://docs.google.com/document/d/1ci8jXGmUPEfYSDKSFH7xdIejlw3IvoAxF8M6tTtyjZM/preview?ouid=112440367154326798730', 'iconLink': 'https://drive-thirdparty.googleusercontent.com/16/type/application/vnd.google-apps.document', 'thumbnailLink': 'https://docs.google.com/feeds/vt?gd=true&id=1ci8jXGmUPEfYSDKSFH7xdIejlw3IvoAxF8M6tTtyjZM&v=1&s=AMedNnoAAAAAXI9-a2ER0TgyYKQ0nlG-_lo1KvOuGmPV&sz=s220', 'title': 'Лингвоэкономика.txt', 'mimeType': 'application/vnd.google-apps.document', 'labels': {'starred': False, 'hidden': False, 'trashed': True, 'restricted': False, 'viewed': True}, 'copyRequiresWriterPermission': False, 'createdDate': '2017-09-03T08:40:30.590Z', 'modifiedDate': '2017-09-03T08:40:31.668Z', 'modifiedByMeDate': '2017-09-03T08:40:31.668Z', 'lastViewedByMeDate': '2017-09-03T08:41:45.418Z', 'markedViewedByMeDate': '1970-01-01T00:00:00.000Z', 'version': '11', 'parents': [{'kind': 'drive#parentReference', 'id': '0ADEgNkVBnu8aUk9PVA', 'selfLink': 'https://www.googleapis.com/drive/v2/files/1ci8jXGmUPEfYSDKSFH7xdIejlw3IvoAxF8M6tTtyjZM/parents/0ADEgNkVBnu8aUk9PVA', 'parentLink': 'https://www.googleapis.com/drive/v2/files/0ADEgNkVBnu8aUk9PVA', 'isRoot': True}], 'exportLinks': {'application/rtf': 'https://docs.google.com/feeds/download/documents/export/Export?id=1ci8jXGmUPEfYSDKSFH7xdIejlw3IvoAxF8M6tTtyjZM&exportFormat=rtf', 'application/vnd.oasis.opendocument.text': 'https://docs.google.com/feeds/download/documents/export/Export?id=1ci8jXGmUPEfYSDKSFH7xdIejlw3IvoAxF8M6tTtyjZM&exportFormat=odt', 'text/html': 'https://docs.google.com/feeds/download/documents/export/Export?id=1ci8jXGmUPEfYSDKSFH7xdIejlw3IvoAxF8M6tTtyjZM&exportFormat=html', 'application/pdf': 'https://docs.google.com/feeds/download/documents/export/Export?id=1ci8jXGmUPEfYSDKSFH7xdIejlw3IvoAxF8M6tTtyjZM&exportFormat=pdf', 'application/epub+zip': 'https://docs.google.com/feeds/download/documents/export/Export?id=1ci8jXGmUPEfYSDKSFH7xdIejlw3IvoAxF8M6tTtyjZM&exportFormat=epub', 'application/zip': 'https://docs.google.com/feeds/download/documents/export/Export?id=1ci8jXGmUPEfYSDKSFH7xdIejlw3IvoAxF8M6tTtyjZM&exportFormat=zip', 'application/vnd.openxmlformats-officedocument.wordprocessingml.document': 'https://docs.google.com/feeds/download/documents/export/Export?id=1ci8jXGmUPEfYSDKSFH7xdIejlw3IvoAxF8M6tTtyjZM&exportFormat=docx', 'text/plain': 'https://docs.google.com/feeds/download/documents/export/Export?id=1ci8jXGmUPEfYSDKSFH7xdIejlw3IvoAxF8M6tTtyjZM&exportFormat=txt'}, 'userPermission': {'kind': 'drive#permission', 'etag': '\"LIfz66WQFJW5vkUY9zfkRsF1GXw/rIXwbXZxOSq95t_iaAaRHk5QtYM\"', 'id': 'me', 'selfLink': 'https://www.googleapis.com/drive/v2/files/1ci8jXGmUPEfYSDKSFH7xdIejlw3IvoAxF8M6tTtyjZM/permissions/me', 'role': 'owner', 'type': 'user'}, 'quotaBytesUsed': '0', 'ownerNames': ['Анастасия Сидорова'], 'owners': [{'kind': 'drive#user', 'displayName': 'Анастасия Сидорова', 'picture': {'url': 'https://lh6.googleusercontent.com/-XzVaXWrv540/AAAAAAAAAAI/AAAAAAAAABE/fhmzJD0vbOc/s64/photo.jpg'}, 'isAuthenticatedUser': True, 'permissionId': '03290400170970154519', 'emailAddress': 'seraslain@gmail.com'}], 'lastModifyingUserName': 'Анастасия Сидорова', 'lastModifyingUser': {'kind': 'drive#user', 'displayName': 'Анастасия Сидорова', 'picture': {'url': 'https://lh6.googleusercontent.com/-XzVaXWrv540/AAAAAAAAAAI/AAAAAAAAABE/fhmzJD0vbOc/s64/photo.jpg'}, 'isAuthenticatedUser': True, 'permissionId': '03290400170970154519', 'emailAddress': 'seraslain@gmail.com'}, 'capabilities': {'canCopy': True, 'canEdit': True}, 'editable': True, 'copyable': True, 'writersCanShare': True, 'shared': False, 'explicitlyTrashed': True, 'appDataContents': False, 'spaces': ['drive']}), GoogleDriveFile({'kind': 'drive#file', 'id': '1wqZq7ho6XFvTrih6awLXddbEl8IMZVL9YfkHvM_ztLw', 'etag': '\"LIfz66WQFJW5vkUY9zfkRsF1GXw/MTUwNDQyNzM2NzI4OA\"', 'selfLink': 'https://www.googleapis.com/drive/v2/files/1wqZq7ho6XFvTrih6awLXddbEl8IMZVL9YfkHvM_ztLw', 'webContentLink': 'https://drive.google.com/uc?id=1wqZq7ho6XFvTrih6awLXddbEl8IMZVL9YfkHvM_ztLw&export=download', 'alternateLink': 'https://docs.google.com/document/d/1wqZq7ho6XFvTrih6awLXddbEl8IMZVL9YfkHvM_ztLw/edit?usp=drivesdk', 'embedLink': 'https://docs.google.com/document/d/1wqZq7ho6XFvTrih6awLXddbEl8IMZVL9YfkHvM_ztLw/preview?ouid=112440367154326798730', 'iconLink': 'https://drive-thirdparty.googleusercontent.com/16/type/application/vnd.google-apps.document', 'thumbnailLink': 'https://docs.google.com/feeds/vt?gd=true&id=1wqZq7ho6XFvTrih6awLXddbEl8IMZVL9YfkHvM_ztLw&v=1&s=AMedNnoAAAAAXI9-a4wnqNK7APH-WpOobJDqDFpwb6MY&sz=s220', 'title': 'Лингвоэкономика.txt', 'mimeType': 'application/vnd.google-apps.document', 'labels': {'starred': False, 'hidden': False, 'trashed': True, 'restricted': False, 'viewed': True}, 'copyRequiresWriterPermission': False, 'createdDate': '2017-09-03T08:29:25.291Z', 'modifiedDate': '2017-09-03T08:29:27.288Z', 'modifiedByMeDate': '2017-09-03T08:29:27.288Z', 'lastViewedByMeDate': '2017-09-03T08:32:47.328Z', 'markedViewedByMeDate': '1970-01-01T00:00:00.000Z', 'version': '11', 'parents': [{'kind': 'drive#parentReference', 'id': '0ADEgNkVBnu8aUk9PVA', 'selfLink': 'https://www.googleapis.com/drive/v2/files/1wqZq7ho6XFvTrih6awLXddbEl8IMZVL9YfkHvM_ztLw/parents/0ADEgNkVBnu8aUk9PVA', 'parentLink': 'https://www.googleapis.com/drive/v2/files/0ADEgNkVBnu8aUk9PVA', 'isRoot': True}], 'exportLinks': {'application/rtf': 'https://docs.google.com/feeds/download/documents/export/Export?id=1wqZq7ho6XFvTrih6awLXddbEl8IMZVL9YfkHvM_ztLw&exportFormat=rtf', 'application/vnd.oasis.opendocument.text': 'https://docs.google.com/feeds/download/documents/export/Export?id=1wqZq7ho6XFvTrih6awLXddbEl8IMZVL9YfkHvM_ztLw&exportFormat=odt', 'text/html': 'https://docs.google.com/feeds/download/documents/export/Export?id=1wqZq7ho6XFvTrih6awLXddbEl8IMZVL9YfkHvM_ztLw&exportFormat=html', 'application/pdf': 'https://docs.google.com/feeds/download/documents/export/Export?id=1wqZq7ho6XFvTrih6awLXddbEl8IMZVL9YfkHvM_ztLw&exportFormat=pdf', 'application/epub+zip': 'https://docs.google.com/feeds/download/documents/export/Export?id=1wqZq7ho6XFvTrih6awLXddbEl8IMZVL9YfkHvM_ztLw&exportFormat=epub', 'application/zip': 'https://docs.google.com/feeds/download/documents/export/Export?id=1wqZq7ho6XFvTrih6awLXddbEl8IMZVL9YfkHvM_ztLw&exportFormat=zip', 'application/vnd.openxmlformats-officedocument.wordprocessingml.document': 'https://docs.google.com/feeds/download/documents/export/Export?id=1wqZq7ho6XFvTrih6awLXddbEl8IMZVL9YfkHvM_ztLw&exportFormat=docx', 'text/plain': 'https://docs.google.com/feeds/download/documents/export/Export?id=1wqZq7ho6XFvTrih6awLXddbEl8IMZVL9YfkHvM_ztLw&exportFormat=txt'}, 'userPermission': {'kind': 'drive#permission', 'etag': '\"LIfz66WQFJW5vkUY9zfkRsF1GXw/Gw1lmJkDUOTRvyX7CgRpfWCYSNc\"', 'id': 'me', 'selfLink': 'https://www.googleapis.com/drive/v2/files/1wqZq7ho6XFvTrih6awLXddbEl8IMZVL9YfkHvM_ztLw/permissions/me', 'role': 'owner', 'type': 'user'}, 'quotaBytesUsed': '0', 'ownerNames': ['Анастасия Сидорова'], 'owners': [{'kind': 'drive#user', 'displayName': 'Анастасия Сидорова', 'picture': {'url': 'https://lh6.googleusercontent.com/-XzVaXWrv540/AAAAAAAAAAI/AAAAAAAAABE/fhmzJD0vbOc/s64/photo.jpg'}, 'isAuthenticatedUser': True, 'permissionId': '03290400170970154519', 'emailAddress': 'seraslain@gmail.com'}], 'lastModifyingUserName': 'Анастасия Сидорова', 'lastModifyingUser': {'kind': 'drive#user', 'displayName': 'Анастасия Сидорова', 'picture': {'url': 'https://lh6.googleusercontent.com/-XzVaXWrv540/AAAAAAAAAAI/AAAAAAAAABE/fhmzJD0vbOc/s64/photo.jpg'}, 'isAuthenticatedUser': True, 'permissionId': '03290400170970154519', 'emailAddress': 'seraslain@gmail.com'}, 'capabilities': {'canCopy': True, 'canEdit': True}, 'editable': True, 'copyable': True, 'writersCanShare': True, 'shared': False, 'explicitlyTrashed': True, 'appDataContents': False, 'spaces': ['drive']}), GoogleDriveFile({'kind': 'drive#file', 'id': '1hfgyct81jzfEReuQlkDyFKod69OM2x9C6Tun11TLuMg', 'etag': '\"LIfz66WQFJW5vkUY9zfkRsF1GXw/MTQ5MzA3MDE1OTUyOQ\"', 'selfLink': 'https://www.googleapis.com/drive/v2/files/1hfgyct81jzfEReuQlkDyFKod69OM2x9C6Tun11TLuMg', 'webContentLink': 'https://drive.google.com/uc?id=1hfgyct81jzfEReuQlkDyFKod69OM2x9C6Tun11TLuMg&export=download', 'alternateLink': 'https://docs.google.com/document/d/1hfgyct81jzfEReuQlkDyFKod69OM2x9C6Tun11TLuMg/edit?usp=drivesdk', 'embedLink': 'https://docs.google.com/document/d/1hfgyct81jzfEReuQlkDyFKod69OM2x9C6Tun11TLuMg/preview?ouid=112440367154326798730', 'iconLink': 'https://drive-thirdparty.googleusercontent.com/16/type/application/vnd.google-apps.document', 'thumbnailLink': 'https://docs.google.com/feeds/vt?gd=true&id=1hfgyct81jzfEReuQlkDyFKod69OM2x9C6Tun11TLuMg&v=1&s=AMedNnoAAAAAXI9-azY_QJex5q9UXF5tea_6v8yLVHPP&sz=s220', 'title': 'praat_script.txt', 'mimeType': 'application/vnd.google-apps.document', 'labels': {'starred': False, 'hidden': False, 'trashed': True, 'restricted': False, 'viewed': True}, 'copyRequiresWriterPermission': False, 'createdDate': '2017-04-24T21:42:38.266Z', 'modifiedDate': '2017-04-24T21:42:39.529Z', 'modifiedByMeDate': '2017-04-24T21:42:39.529Z', 'lastViewedByMeDate': '2017-04-24T21:46:57.669Z', 'markedViewedByMeDate': '1970-01-01T00:00:00.000Z', 'version': '71286', 'parents': [{'kind': 'drive#parentReference', 'id': '0ADEgNkVBnu8aUk9PVA', 'selfLink': 'https://www.googleapis.com/drive/v2/files/1hfgyct81jzfEReuQlkDyFKod69OM2x9C6Tun11TLuMg/parents/0ADEgNkVBnu8aUk9PVA', 'parentLink': 'https://www.googleapis.com/drive/v2/files/0ADEgNkVBnu8aUk9PVA', 'isRoot': True}], 'exportLinks': {'application/rtf': 'https://docs.google.com/feeds/download/documents/export/Export?id=1hfgyct81jzfEReuQlkDyFKod69OM2x9C6Tun11TLuMg&exportFormat=rtf', 'application/vnd.oasis.opendocument.text': 'https://docs.google.com/feeds/download/documents/export/Export?id=1hfgyct81jzfEReuQlkDyFKod69OM2x9C6Tun11TLuMg&exportFormat=odt', 'text/html': 'https://docs.google.com/feeds/download/documents/export/Export?id=1hfgyct81jzfEReuQlkDyFKod69OM2x9C6Tun11TLuMg&exportFormat=html', 'application/pdf': 'https://docs.google.com/feeds/download/documents/export/Export?id=1hfgyct81jzfEReuQlkDyFKod69OM2x9C6Tun11TLuMg&exportFormat=pdf', 'application/epub+zip': 'https://docs.google.com/feeds/download/documents/export/Export?id=1hfgyct81jzfEReuQlkDyFKod69OM2x9C6Tun11TLuMg&exportFormat=epub', 'application/zip': 'https://docs.google.com/feeds/download/documents/export/Export?id=1hfgyct81jzfEReuQlkDyFKod69OM2x9C6Tun11TLuMg&exportFormat=zip', 'application/vnd.openxmlformats-officedocument.wordprocessingml.document': 'https://docs.google.com/feeds/download/documents/export/Export?id=1hfgyct81jzfEReuQlkDyFKod69OM2x9C6Tun11TLuMg&exportFormat=docx', 'text/plain': 'https://docs.google.com/feeds/download/documents/export/Export?id=1hfgyct81jzfEReuQlkDyFKod69OM2x9C6Tun11TLuMg&exportFormat=txt'}, 'userPermission': {'kind': 'drive#permission', 'etag': '\"LIfz66WQFJW5vkUY9zfkRsF1GXw/acGAKbJLAADn6dehzyR0idYvHV8\"', 'id': 'me', 'selfLink': 'https://www.googleapis.com/drive/v2/files/1hfgyct81jzfEReuQlkDyFKod69OM2x9C6Tun11TLuMg/permissions/me', 'role': 'owner', 'type': 'user'}, 'quotaBytesUsed': '0', 'ownerNames': ['Анастасия Сидорова'], 'owners': [{'kind': 'drive#user', 'displayName': 'Анастасия Сидорова', 'picture': {'url': 'https://lh6.googleusercontent.com/-XzVaXWrv540/AAAAAAAAAAI/AAAAAAAAABE/fhmzJD0vbOc/s64/photo.jpg'}, 'isAuthenticatedUser': True, 'permissionId': '03290400170970154519', 'emailAddress': 'seraslain@gmail.com'}], 'lastModifyingUserName': 'Анастасия Сидорова', 'lastModifyingUser': {'kind': 'drive#user', 'displayName': 'Анастасия Сидорова', 'picture': {'url': 'https://lh6.googleusercontent.com/-XzVaXWrv540/AAAAAAAAAAI/AAAAAAAAABE/fhmzJD0vbOc/s64/photo.jpg'}, 'isAuthenticatedUser': True, 'permissionId': '03290400170970154519', 'emailAddress': 'seraslain@gmail.com'}, 'capabilities': {'canCopy': True, 'canEdit': True}, 'editable': True, 'copyable': True, 'writersCanShare': True, 'shared': False, 'explicitlyTrashed': True, 'appDataContents': False, 'spaces': ['drive']}), GoogleDriveFile({'kind': 'drive#file', 'id': '1I7XtXINQk4ZoV1vl51Qw44V_zU3gUBzxJ9tgNERePOw', 'etag': '\"LIfz66WQFJW5vkUY9zfkRsF1GXw/MTQ4NzY1Njk2MzE4Nw\"', 'selfLink': 'https://www.googleapis.com/drive/v2/files/1I7XtXINQk4ZoV1vl51Qw44V_zU3gUBzxJ9tgNERePOw', 'webContentLink': 'https://drive.google.com/uc?id=1I7XtXINQk4ZoV1vl51Qw44V_zU3gUBzxJ9tgNERePOw&export=download', 'alternateLink': 'https://docs.google.com/document/d/1I7XtXINQk4ZoV1vl51Qw44V_zU3gUBzxJ9tgNERePOw/edit?usp=drivesdk', 'embedLink': 'https://docs.google.com/document/d/1I7XtXINQk4ZoV1vl51Qw44V_zU3gUBzxJ9tgNERePOw/preview?ouid=112440367154326798730', 'iconLink': 'https://drive-thirdparty.googleusercontent.com/16/type/application/vnd.google-apps.document', 'thumbnailLink': 'https://docs.google.com/feeds/vt?gd=true&id=1I7XtXINQk4ZoV1vl51Qw44V_zU3gUBzxJ9tgNERePOw&v=1&s=AMedNnoAAAAAXI9-a9URCg5sNBe5_N-Mav_syhPWLQAr&sz=s220', 'title': 'Zolotye_stranitsy.txt', 'mimeType': 'application/vnd.google-apps.document', 'labels': {'starred': False, 'hidden': False, 'trashed': True, 'restricted': False, 'viewed': True}, 'copyRequiresWriterPermission': False, 'createdDate': '2017-02-21T06:02:41.797Z', 'modifiedDate': '2017-02-21T06:02:43.187Z', 'modifiedByMeDate': '2017-02-21T06:02:43.187Z', 'lastViewedByMeDate': '2017-02-21T06:03:05.602Z', 'markedViewedByMeDate': '1970-01-01T00:00:00.000Z', 'version': '49101', 'parents': [{'kind': 'drive#parentReference', 'id': '0ADEgNkVBnu8aUk9PVA', 'selfLink': 'https://www.googleapis.com/drive/v2/files/1I7XtXINQk4ZoV1vl51Qw44V_zU3gUBzxJ9tgNERePOw/parents/0ADEgNkVBnu8aUk9PVA', 'parentLink': 'https://www.googleapis.com/drive/v2/files/0ADEgNkVBnu8aUk9PVA', 'isRoot': True}], 'exportLinks': {'application/rtf': 'https://docs.google.com/feeds/download/documents/export/Export?id=1I7XtXINQk4ZoV1vl51Qw44V_zU3gUBzxJ9tgNERePOw&exportFormat=rtf', 'application/vnd.oasis.opendocument.text': 'https://docs.google.com/feeds/download/documents/export/Export?id=1I7XtXINQk4ZoV1vl51Qw44V_zU3gUBzxJ9tgNERePOw&exportFormat=odt', 'text/html': 'https://docs.google.com/feeds/download/documents/export/Export?id=1I7XtXINQk4ZoV1vl51Qw44V_zU3gUBzxJ9tgNERePOw&exportFormat=html', 'application/pdf': 'https://docs.google.com/feeds/download/documents/export/Export?id=1I7XtXINQk4ZoV1vl51Qw44V_zU3gUBzxJ9tgNERePOw&exportFormat=pdf', 'application/epub+zip': 'https://docs.google.com/feeds/download/documents/export/Export?id=1I7XtXINQk4ZoV1vl51Qw44V_zU3gUBzxJ9tgNERePOw&exportFormat=epub', 'application/zip': 'https://docs.google.com/feeds/download/documents/export/Export?id=1I7XtXINQk4ZoV1vl51Qw44V_zU3gUBzxJ9tgNERePOw&exportFormat=zip', 'application/vnd.openxmlformats-officedocument.wordprocessingml.document': 'https://docs.google.com/feeds/download/documents/export/Export?id=1I7XtXINQk4ZoV1vl51Qw44V_zU3gUBzxJ9tgNERePOw&exportFormat=docx', 'text/plain': 'https://docs.google.com/feeds/download/documents/export/Export?id=1I7XtXINQk4ZoV1vl51Qw44V_zU3gUBzxJ9tgNERePOw&exportFormat=txt'}, 'userPermission': {'kind': 'drive#permission', 'etag': '\"LIfz66WQFJW5vkUY9zfkRsF1GXw/Tv9n7t9yKPQATljevZiDPKNvKEA\"', 'id': 'me', 'selfLink': 'https://www.googleapis.com/drive/v2/files/1I7XtXINQk4ZoV1vl51Qw44V_zU3gUBzxJ9tgNERePOw/permissions/me', 'role': 'owner', 'type': 'user'}, 'quotaBytesUsed': '0', 'ownerNames': ['Анастасия Сидорова'], 'owners': [{'kind': 'drive#user', 'displayName': 'Анастасия Сидорова', 'picture': {'url': 'https://lh6.googleusercontent.com/-XzVaXWrv540/AAAAAAAAAAI/AAAAAAAAABE/fhmzJD0vbOc/s64/photo.jpg'}, 'isAuthenticatedUser': True, 'permissionId': '03290400170970154519', 'emailAddress': 'seraslain@gmail.com'}], 'lastModifyingUserName': 'Анастасия Сидорова', 'lastModifyingUser': {'kind': 'drive#user', 'displayName': 'Анастасия Сидорова', 'picture': {'url': 'https://lh6.googleusercontent.com/-XzVaXWrv540/AAAAAAAAAAI/AAAAAAAAABE/fhmzJD0vbOc/s64/photo.jpg'}, 'isAuthenticatedUser': True, 'permissionId': '03290400170970154519', 'emailAddress': 'seraslain@gmail.com'}, 'capabilities': {'canCopy': True, 'canEdit': True}, 'editable': True, 'copyable': True, 'writersCanShare': True, 'shared': False, 'explicitlyTrashed': True, 'appDataContents': False, 'spaces': ['drive']}), GoogleDriveFile({'kind': 'drive#file', 'id': '1TeH6Q8C7qKZQGoWc5xBrreto8lf9SSHRE-UWC9APPjE', 'etag': '\"LIfz66WQFJW5vkUY9zfkRsF1GXw/MTQ4NTUyNzA1MDE3MQ\"', 'selfLink': 'https://www.googleapis.com/drive/v2/files/1TeH6Q8C7qKZQGoWc5xBrreto8lf9SSHRE-UWC9APPjE', 'webContentLink': 'https://drive.google.com/uc?id=1TeH6Q8C7qKZQGoWc5xBrreto8lf9SSHRE-UWC9APPjE&export=download', 'alternateLink': 'https://docs.google.com/document/d/1TeH6Q8C7qKZQGoWc5xBrreto8lf9SSHRE-UWC9APPjE/edit?usp=drivesdk', 'embedLink': 'https://docs.google.com/document/d/1TeH6Q8C7qKZQGoWc5xBrreto8lf9SSHRE-UWC9APPjE/preview?ouid=112440367154326798730', 'iconLink': 'https://drive-thirdparty.googleusercontent.com/16/type/application/vnd.google-apps.document', 'thumbnailLink': 'https://docs.google.com/feeds/vt?gd=true&id=1TeH6Q8C7qKZQGoWc5xBrreto8lf9SSHRE-UWC9APPjE&v=1&s=AMedNnoAAAAAXI9-az5asoLAcsuTXQLOSowskOjrtUNo&sz=s220', 'title': '2_5213409162775494701.txt', 'mimeType': 'application/vnd.google-apps.document', 'labels': {'starred': False, 'hidden': False, 'trashed': True, 'restricted': False, 'viewed': True}, 'copyRequiresWriterPermission': False, 'createdDate': '2017-01-27T14:24:09.153Z', 'modifiedDate': '2017-01-27T14:24:10.171Z', 'modifiedByMeDate': '2017-01-27T14:24:10.171Z', 'lastViewedByMeDate': '2017-02-19T21:12:20.481Z', 'markedViewedByMeDate': '1970-01-01T00:00:00.000Z', 'version': '48628', 'parents': [{'kind': 'drive#parentReference', 'id': '0ADEgNkVBnu8aUk9PVA', 'selfLink': 'https://www.googleapis.com/drive/v2/files/1TeH6Q8C7qKZQGoWc5xBrreto8lf9SSHRE-UWC9APPjE/parents/0ADEgNkVBnu8aUk9PVA', 'parentLink': 'https://www.googleapis.com/drive/v2/files/0ADEgNkVBnu8aUk9PVA', 'isRoot': True}], 'exportLinks': {'application/rtf': 'https://docs.google.com/feeds/download/documents/export/Export?id=1TeH6Q8C7qKZQGoWc5xBrreto8lf9SSHRE-UWC9APPjE&exportFormat=rtf', 'application/vnd.oasis.opendocument.text': 'https://docs.google.com/feeds/download/documents/export/Export?id=1TeH6Q8C7qKZQGoWc5xBrreto8lf9SSHRE-UWC9APPjE&exportFormat=odt', 'text/html': 'https://docs.google.com/feeds/download/documents/export/Export?id=1TeH6Q8C7qKZQGoWc5xBrreto8lf9SSHRE-UWC9APPjE&exportFormat=html', 'application/pdf': 'https://docs.google.com/feeds/download/documents/export/Export?id=1TeH6Q8C7qKZQGoWc5xBrreto8lf9SSHRE-UWC9APPjE&exportFormat=pdf', 'application/epub+zip': 'https://docs.google.com/feeds/download/documents/export/Export?id=1TeH6Q8C7qKZQGoWc5xBrreto8lf9SSHRE-UWC9APPjE&exportFormat=epub', 'application/zip': 'https://docs.google.com/feeds/download/documents/export/Export?id=1TeH6Q8C7qKZQGoWc5xBrreto8lf9SSHRE-UWC9APPjE&exportFormat=zip', 'application/vnd.openxmlformats-officedocument.wordprocessingml.document': 'https://docs.google.com/feeds/download/documents/export/Export?id=1TeH6Q8C7qKZQGoWc5xBrreto8lf9SSHRE-UWC9APPjE&exportFormat=docx', 'text/plain': 'https://docs.google.com/feeds/download/documents/export/Export?id=1TeH6Q8C7qKZQGoWc5xBrreto8lf9SSHRE-UWC9APPjE&exportFormat=txt'}, 'userPermission': {'kind': 'drive#permission', 'etag': '\"LIfz66WQFJW5vkUY9zfkRsF1GXw/p2MeYbFkE-koET5wJhx8hgxkJ34\"', 'id': 'me', 'selfLink': 'https://www.googleapis.com/drive/v2/files/1TeH6Q8C7qKZQGoWc5xBrreto8lf9SSHRE-UWC9APPjE/permissions/me', 'role': 'owner', 'type': 'user'}, 'quotaBytesUsed': '0', 'ownerNames': ['Анастасия Сидорова'], 'owners': [{'kind': 'drive#user', 'displayName': 'Анастасия Сидорова', 'picture': {'url': 'https://lh6.googleusercontent.com/-XzVaXWrv540/AAAAAAAAAAI/AAAAAAAAABE/fhmzJD0vbOc/s64/photo.jpg'}, 'isAuthenticatedUser': True, 'permissionId': '03290400170970154519', 'emailAddress': 'seraslain@gmail.com'}], 'lastModifyingUserName': 'Анастасия Сидорова', 'lastModifyingUser': {'kind': 'drive#user', 'displayName': 'Анастасия Сидорова', 'picture': {'url': 'https://lh6.googleusercontent.com/-XzVaXWrv540/AAAAAAAAAAI/AAAAAAAAABE/fhmzJD0vbOc/s64/photo.jpg'}, 'isAuthenticatedUser': True, 'permissionId': '03290400170970154519', 'emailAddress': 'seraslain@gmail.com'}, 'capabilities': {'canCopy': True, 'canEdit': True}, 'editable': True, 'copyable': True, 'writersCanShare': True, 'shared': False, 'explicitlyTrashed': True, 'appDataContents': False, 'spaces': ['drive']}), GoogleDriveFile({'kind': 'drive#file', 'id': '1fUPCvx5ouRjaCGi_9QGyOBe5jAx4QF775bOQqfF6qaQ', 'etag': '\"LIfz66WQFJW5vkUY9zfkRsF1GXw/MTQ4Mjc3ODg1NTMxMA\"', 'selfLink': 'https://www.googleapis.com/drive/v2/files/1fUPCvx5ouRjaCGi_9QGyOBe5jAx4QF775bOQqfF6qaQ', 'webContentLink': 'https://drive.google.com/uc?id=1fUPCvx5ouRjaCGi_9QGyOBe5jAx4QF775bOQqfF6qaQ&export=download', 'alternateLink': 'https://docs.google.com/document/d/1fUPCvx5ouRjaCGi_9QGyOBe5jAx4QF775bOQqfF6qaQ/edit?usp=drivesdk', 'embedLink': 'https://docs.google.com/document/d/1fUPCvx5ouRjaCGi_9QGyOBe5jAx4QF775bOQqfF6qaQ/preview?ouid=112440367154326798730', 'iconLink': 'https://drive-thirdparty.googleusercontent.com/16/type/application/vnd.google-apps.document', 'thumbnailLink': 'https://docs.google.com/feeds/vt?gd=true&id=1fUPCvx5ouRjaCGi_9QGyOBe5jAx4QF775bOQqfF6qaQ&v=1&s=AMedNnoAAAAAXI9-awG8Po2IXcqjM4t7XW-Fm5GrOeJt&sz=s220', 'title': 'slova_rzhya.txt', 'mimeType': 'application/vnd.google-apps.document', 'labels': {'starred': False, 'hidden': False, 'trashed': False, 'restricted': False, 'viewed': True}, 'copyRequiresWriterPermission': False, 'createdDate': '2016-12-26T19:00:53.673Z', 'modifiedDate': '2016-12-26T19:00:55.310Z', 'modifiedByMeDate': '2016-12-26T19:00:55.310Z', 'lastViewedByMeDate': '2016-12-26T19:01:36.960Z', 'markedViewedByMeDate': '1970-01-01T00:00:00.000Z', 'version': '43269', 'parents': [{'kind': 'drive#parentReference', 'id': '0ADEgNkVBnu8aUk9PVA', 'selfLink': 'https://www.googleapis.com/drive/v2/files/1fUPCvx5ouRjaCGi_9QGyOBe5jAx4QF775bOQqfF6qaQ/parents/0ADEgNkVBnu8aUk9PVA', 'parentLink': 'https://www.googleapis.com/drive/v2/files/0ADEgNkVBnu8aUk9PVA', 'isRoot': True}], 'exportLinks': {'application/rtf': 'https://docs.google.com/feeds/download/documents/export/Export?id=1fUPCvx5ouRjaCGi_9QGyOBe5jAx4QF775bOQqfF6qaQ&exportFormat=rtf', 'application/vnd.oasis.opendocument.text': 'https://docs.google.com/feeds/download/documents/export/Export?id=1fUPCvx5ouRjaCGi_9QGyOBe5jAx4QF775bOQqfF6qaQ&exportFormat=odt', 'text/html': 'https://docs.google.com/feeds/download/documents/export/Export?id=1fUPCvx5ouRjaCGi_9QGyOBe5jAx4QF775bOQqfF6qaQ&exportFormat=html', 'application/pdf': 'https://docs.google.com/feeds/download/documents/export/Export?id=1fUPCvx5ouRjaCGi_9QGyOBe5jAx4QF775bOQqfF6qaQ&exportFormat=pdf', 'application/epub+zip': 'https://docs.google.com/feeds/download/documents/export/Export?id=1fUPCvx5ouRjaCGi_9QGyOBe5jAx4QF775bOQqfF6qaQ&exportFormat=epub', 'application/zip': 'https://docs.google.com/feeds/download/documents/export/Export?id=1fUPCvx5ouRjaCGi_9QGyOBe5jAx4QF775bOQqfF6qaQ&exportFormat=zip', 'application/vnd.openxmlformats-officedocument.wordprocessingml.document': 'https://docs.google.com/feeds/download/documents/export/Export?id=1fUPCvx5ouRjaCGi_9QGyOBe5jAx4QF775bOQqfF6qaQ&exportFormat=docx', 'text/plain': 'https://docs.google.com/feeds/download/documents/export/Export?id=1fUPCvx5ouRjaCGi_9QGyOBe5jAx4QF775bOQqfF6qaQ&exportFormat=txt'}, 'userPermission': {'kind': 'drive#permission', 'etag': '\"LIfz66WQFJW5vkUY9zfkRsF1GXw/soJz3j_pLNL2fDBeKtM914qWJz8\"', 'id': 'me', 'selfLink': 'https://www.googleapis.com/drive/v2/files/1fUPCvx5ouRjaCGi_9QGyOBe5jAx4QF775bOQqfF6qaQ/permissions/me', 'role': 'owner', 'type': 'user'}, 'quotaBytesUsed': '0', 'ownerNames': ['Анастасия Сидорова'], 'owners': [{'kind': 'drive#user', 'displayName': 'Анастасия Сидорова', 'picture': {'url': 'https://lh6.googleusercontent.com/-XzVaXWrv540/AAAAAAAAAAI/AAAAAAAAABE/fhmzJD0vbOc/s64/photo.jpg'}, 'isAuthenticatedUser': True, 'permissionId': '03290400170970154519', 'emailAddress': 'seraslain@gmail.com'}], 'lastModifyingUserName': 'Анастасия Сидорова', 'lastModifyingUser': {'kind': 'drive#user', 'displayName': 'Анастасия Сидорова', 'picture': {'url': 'https://lh6.googleusercontent.com/-XzVaXWrv540/AAAAAAAAAAI/AAAAAAAAABE/fhmzJD0vbOc/s64/photo.jpg'}, 'isAuthenticatedUser': True, 'permissionId': '03290400170970154519', 'emailAddress': 'seraslain@gmail.com'}, 'capabilities': {'canCopy': True, 'canEdit': True}, 'editable': True, 'copyable': True, 'writersCanShare': True, 'shared': False, 'explicitlyTrashed': False, 'appDataContents': False, 'spaces': ['drive']}), GoogleDriveFile({'kind': 'drive#file', 'id': '1bEA9grxdtaUW4OmQaTzKlF2LcBRZiNtLMvdtBMw7EkY', 'etag': '\"LIfz66WQFJW5vkUY9zfkRsF1GXw/MTQ4MDQyMDQwNTk0NQ\"', 'selfLink': 'https://www.googleapis.com/drive/v2/files/1bEA9grxdtaUW4OmQaTzKlF2LcBRZiNtLMvdtBMw7EkY', 'webContentLink': 'https://drive.google.com/uc?id=1bEA9grxdtaUW4OmQaTzKlF2LcBRZiNtLMvdtBMw7EkY&export=download', 'alternateLink': 'https://docs.google.com/document/d/1bEA9grxdtaUW4OmQaTzKlF2LcBRZiNtLMvdtBMw7EkY/edit?usp=drivesdk', 'embedLink': 'https://docs.google.com/document/d/1bEA9grxdtaUW4OmQaTzKlF2LcBRZiNtLMvdtBMw7EkY/preview?ouid=112440367154326798730', 'iconLink': 'https://drive-thirdparty.googleusercontent.com/16/type/application/vnd.google-apps.document', 'thumbnailLink': 'https://docs.google.com/feeds/vt?gd=true&id=1bEA9grxdtaUW4OmQaTzKlF2LcBRZiNtLMvdtBMw7EkY&v=1&s=AMedNnoAAAAAXI9-a1IA4OqpMavzdRVKY71G3s4dHNaG&sz=s220', 'title': 'word_game.txt', 'mimeType': 'application/vnd.google-apps.document', 'labels': {'starred': False, 'hidden': False, 'trashed': True, 'restricted': False, 'viewed': True}, 'copyRequiresWriterPermission': False, 'createdDate': '2016-11-29T11:53:24.863Z', 'modifiedDate': '2016-11-29T11:53:25.945Z', 'modifiedByMeDate': '2016-11-29T11:53:25.945Z', 'lastViewedByMeDate': '2017-02-19T21:17:13.424Z', 'markedViewedByMeDate': '1970-01-01T00:00:00.000Z', 'version': '48671', 'parents': [{'kind': 'drive#parentReference', 'id': '0ADEgNkVBnu8aUk9PVA', 'selfLink': 'https://www.googleapis.com/drive/v2/files/1bEA9grxdtaUW4OmQaTzKlF2LcBRZiNtLMvdtBMw7EkY/parents/0ADEgNkVBnu8aUk9PVA', 'parentLink': 'https://www.googleapis.com/drive/v2/files/0ADEgNkVBnu8aUk9PVA', 'isRoot': True}], 'exportLinks': {'application/rtf': 'https://docs.google.com/feeds/download/documents/export/Export?id=1bEA9grxdtaUW4OmQaTzKlF2LcBRZiNtLMvdtBMw7EkY&exportFormat=rtf', 'application/vnd.oasis.opendocument.text': 'https://docs.google.com/feeds/download/documents/export/Export?id=1bEA9grxdtaUW4OmQaTzKlF2LcBRZiNtLMvdtBMw7EkY&exportFormat=odt', 'text/html': 'https://docs.google.com/feeds/download/documents/export/Export?id=1bEA9grxdtaUW4OmQaTzKlF2LcBRZiNtLMvdtBMw7EkY&exportFormat=html', 'application/pdf': 'https://docs.google.com/feeds/download/documents/export/Export?id=1bEA9grxdtaUW4OmQaTzKlF2LcBRZiNtLMvdtBMw7EkY&exportFormat=pdf', 'application/epub+zip': 'https://docs.google.com/feeds/download/documents/export/Export?id=1bEA9grxdtaUW4OmQaTzKlF2LcBRZiNtLMvdtBMw7EkY&exportFormat=epub', 'application/zip': 'https://docs.google.com/feeds/download/documents/export/Export?id=1bEA9grxdtaUW4OmQaTzKlF2LcBRZiNtLMvdtBMw7EkY&exportFormat=zip', 'application/vnd.openxmlformats-officedocument.wordprocessingml.document': 'https://docs.google.com/feeds/download/documents/export/Export?id=1bEA9grxdtaUW4OmQaTzKlF2LcBRZiNtLMvdtBMw7EkY&exportFormat=docx', 'text/plain': 'https://docs.google.com/feeds/download/documents/export/Export?id=1bEA9grxdtaUW4OmQaTzKlF2LcBRZiNtLMvdtBMw7EkY&exportFormat=txt'}, 'userPermission': {'kind': 'drive#permission', 'etag': '\"LIfz66WQFJW5vkUY9zfkRsF1GXw/kaMZTmcnPD7CrPHJi9sFnEGQ9hI\"', 'id': 'me', 'selfLink': 'https://www.googleapis.com/drive/v2/files/1bEA9grxdtaUW4OmQaTzKlF2LcBRZiNtLMvdtBMw7EkY/permissions/me', 'role': 'owner', 'type': 'user'}, 'quotaBytesUsed': '0', 'ownerNames': ['Анастасия Сидорова'], 'owners': [{'kind': 'drive#user', 'displayName': 'Анастасия Сидорова', 'picture': {'url': 'https://lh6.googleusercontent.com/-XzVaXWrv540/AAAAAAAAAAI/AAAAAAAAABE/fhmzJD0vbOc/s64/photo.jpg'}, 'isAuthenticatedUser': True, 'permissionId': '03290400170970154519', 'emailAddress': 'seraslain@gmail.com'}], 'lastModifyingUserName': 'Анастасия Сидорова', 'lastModifyingUser': {'kind': 'drive#user', 'displayName': 'Анастасия Сидорова', 'picture': {'url': 'https://lh6.googleusercontent.com/-XzVaXWrv540/AAAAAAAAAAI/AAAAAAAAABE/fhmzJD0vbOc/s64/photo.jpg'}, 'isAuthenticatedUser': True, 'permissionId': '03290400170970154519', 'emailAddress': 'seraslain@gmail.com'}, 'capabilities': {'canCopy': True, 'canEdit': True}, 'editable': True, 'copyable': True, 'writersCanShare': True, 'shared': False, 'explicitlyTrashed': True, 'appDataContents': False, 'spaces': ['drive']})]\n"
          ],
          "name": "stdout"
        }
      ]
    },
    {
      "cell_type": "markdown",
      "metadata": {
        "id": "4erF1VBNj3ew",
        "colab_type": "text"
      },
      "source": [
        "### Полуинтерактивная проверка корпуса"
      ]
    },
    {
      "cell_type": "code",
      "metadata": {
        "id": "5-ZSF65cmuSy",
        "colab_type": "code",
        "colab": {}
      },
      "source": [
        ""
      ],
      "execution_count": 0,
      "outputs": []
    },
    {
      "cell_type": "markdown",
      "metadata": {
        "id": "Tdk8HgJ2u-r2",
        "colab_type": "text"
      },
      "source": [
        "\n",
        "## Извлечение коллокаций\n",
        "\n",
        "Основано на https://github.com/MariaFjodorowa/catandthekittens/tree/develop/collocations/collocation_frequencies\n",
        "by Anna Dmitrieva\n",
        "\n",
        "Код переработан для лучшей читаемости и оформлен по pep8"
      ]
    },
    {
      "cell_type": "code",
      "metadata": {
        "id": "GREps0vzKxLY",
        "colab_type": "code",
        "outputId": "6c482fa5-86de-47f9-bf35-17caef563c67",
        "colab": {
          "base_uri": "https://localhost:8080/",
          "height": 105
        }
      },
      "source": [
        "pip install conllu"
      ],
      "execution_count": 0,
      "outputs": [
        {
          "output_type": "stream",
          "text": [
            "Collecting conllu\n",
            "  Downloading https://files.pythonhosted.org/packages/ae/54/b0ae1199f3d01666821b028cd967f7c0ac527ab162af433d3da69242cea2/conllu-1.3.1-py2.py3-none-any.whl\n",
            "Installing collected packages: conllu\n",
            "Successfully installed conllu-1.3.1\n"
          ],
          "name": "stdout"
        }
      ]
    },
    {
      "cell_type": "code",
      "metadata": {
        "id": "H-yHW4cy0gw6",
        "colab_type": "code",
        "colab": {}
      },
      "source": [
        "# Парсим конллу\n",
        "from conllu import parse, parse_tree\n",
        "import collections"
      ],
      "execution_count": 0,
      "outputs": []
    },
    {
      "cell_type": "code",
      "metadata": {
        "id": "-UyPvrfHHw15",
        "colab_type": "code",
        "colab": {}
      },
      "source": [
        "def parser(filename):\n",
        "  with open(filename, 'r', encoding='utf-8') as f:\n",
        "    data = f.read()\n",
        "  tree = parse(data)\n",
        "  for token in tree:\n",
        "    yield token"
      ],
      "execution_count": 0,
      "outputs": []
    },
    {
      "cell_type": "code",
      "metadata": {
        "id": "WR37chZ3sk4U",
        "colab_type": "code",
        "outputId": "9ec89671-ede9-45de-8d97-56fbc9ab10b8",
        "colab": {
          "base_uri": "https://localhost:8080/",
          "height": 170
        }
      },
      "source": [
        "import os\n",
        "os.listdir('/content/gdrive/My Drive/Новые conll по доменам/NewVers')"
      ],
      "execution_count": 0,
      "outputs": [
        {
          "output_type": "execute_result",
          "data": {
            "text/plain": [
              "['CleanedEco.conllu',\n",
              " 'CleanedLaw.conllu',\n",
              " 'CleanedLing.conllu',\n",
              " 'CleanedPsyEdu.conllu',\n",
              " 'CleanedSocioHist.conllu',\n",
              " 'CleanedCAT.conllu',\n",
              " 'Domains_collocations',\n",
              " 'PsyEdu.xlsx',\n",
              " 'Eco.conllu.xlsx']"
            ]
          },
          "metadata": {
            "tags": []
          },
          "execution_count": 7
        }
      ]
    },
    {
      "cell_type": "code",
      "metadata": {
        "id": "MZE0Yf0aMDb-",
        "colab_type": "code",
        "outputId": "a2576515-478f-4c9b-814b-82df604629c7",
        "colab": {
          "base_uri": "https://localhost:8080/",
          "height": 16561
        }
      },
      "source": [
        "wrongs = 0\n",
        "with open('/content/gdrive/My Drive/Новые conll по доменам/NewVers/CleanedCAT.conllu', 'r', encoding='utf-8') as f:\n",
        "  n = 0\n",
        "  while n < 1001:\n",
        "    line = f.readline()\n",
        "    print(line)\n",
        "    answer = input('Норм? 0 - да, 1 - нет')\n",
        "    if answer != '':\n",
        "      wrongs += int(answer)\n",
        "      n += 1\n",
        "print('Процент ошибок: ', str(wrongs/1000))\n",
        "\n",
        "  \n",
        "\n",
        "    "
      ],
      "execution_count": 0,
      "outputs": [
        {
          "output_type": "stream",
          "text": [
            "# newdoc\n",
            "\n",
            "# newpar\n",
            "\n",
            "# sent_id = 1\n",
            "\n",
            "# text = ВведениеВ г. в российской экономике начался восстановительный рост.\n",
            "\n",
            "1\tВведениеВ\tВведениеВ\tVERB\t_\tAspect=Perf|Tense=Past|VerbForm=Conv|Voice=Act\t6\tadvcl\t_\tSpacesAfter=\\s \n",
            "\n",
            "2\tг.\tгод\tNOUN\t_\tAnimacy=Inan|Case=Acc|Gender=Masc|Number=Sing\t1\tobj\t_\t_\n",
            "\n",
            "3\tв\tв\tADP\t_\t_\t5\tcase\t_\tSpacesAfter= \n",
            "\n",
            "4\tроссийской\tроссийский\tADJ\t_\tCase=Loc|Degree=Pos|Gender=Fem|Number=Sing\t5\tamod\t_\t_\n",
            "\n",
            "5\tэкономике\tэкономика\tNOUN\t_\tAnimacy=Inan|Case=Loc|Gender=Fem|Number=Sing\t1\tobl\t_\t_\n",
            "\n",
            "6\tначался\tначаться\tVERB\t_\tAspect=Perf|Gender=Masc|Mood=Ind|Number=Sing|Tense=Past|VerbForm=Fin|Voice=Mid\t0\troot\t_\t_\n",
            "\n",
            "7\tвосстановительный\tвосстановительный\tADJ\t_\tCase=Nom|Degree=Pos|Gender=Masc|Number=Sing\t8\tamod\t_\t_\n",
            "\n",
            "8\tрост\tрост\tNOUN\t_\tAnimacy=Inan|Case=Nom|Gender=Masc|Number=Sing\t6\tnsubj\t_\tSpaceAfter=No\n",
            "\n",
            "9\t.\t.\tPUNCT\t_\t_\t6\tpunct\t_\t_\n",
            "\n",
            "\n",
            "\n",
            "# sent_id = 2\n",
            "\n",
            "# text = Однако он остается слабым и неустойчивым при этом сохраняются угрозы новой рецессии Статья подготовлена при финансовой поддержке РФФИ проект --.....\n",
            "\n",
            "1\tОднако\tоднако\tADV\t_\tDegree=Pos\t3\tadvmod\t_\t_\n",
            "\n",
            "2\tон\tон\tPRON\t_\tCase=Nom|Gender=Masc|Number=Sing|Person=3\t3\tnsubj\t_\t_\n",
            "\n",
            "3\tостается\tоставаться\tVERB\t_\tAspect=Imp|Mood=Ind|Number=Sing|Person=3|Tense=Pres|VerbForm=Fin|Voice=Mid\t0\troot\t_\t_\n",
            "\n",
            "4\tслабым\tслабый\tADJ\t_\tCase=Ins|Degree=Pos|Gender=Neut|Number=Sing\t3\tobl\t_\t_\n",
            "\n",
            "5\tи\tи\tCCONJ\t_\t_\t6\tcc\t_\tSpacesAfter= \n",
            "\n",
            "6\tнеустойчивым\tнеустойчивый\tADJ\t_\tCase=Ins|Degree=Pos|Gender=Neut|Number=Sing\t4\tconj\t_\t_\n",
            "\n",
            "7\tпри\tпри\tADP\t_\t_\t8\tcase\t_\t_\n",
            "\n",
            "8\tэтом\tэто\tPRON\t_\tAnimacy=Inan|Case=Loc|Gender=Neut|Number=Sing\t9\tobl\t_\t_\n",
            "\n",
            "9\tсохраняются\tсохраняться\tVERB\t_\tAspect=Imp|Mood=Ind|Number=Plur|Person=3|Tense=Pres|VerbForm=Fin|Voice=Mid\t3\tparataxis\t_\t_\n",
            "\n",
            "10\tугрозы\tугроза\tNOUN\t_\tAnimacy=Inan|Case=Nom|Gender=Fem|Number=Plur\t9\tnsubj\t_\t_\n",
            "\n",
            "11\tновой\tновый\tADJ\t_\tCase=Gen|Degree=Pos|Gender=Fem|Number=Sing\t12\tamod\t_\t_\n",
            "\n",
            "12\tрецессии\tрецессия\tNOUN\t_\tAnimacy=Inan|Case=Gen|Gender=Fem|Number=Sing\t10\tnmod\t_\t_\n",
            "\n",
            "13\tСтатья\tстатье\tNOUN\t_\tAnimacy=Inan|Case=Nom|Gender=Fem|Number=Sing\t14\tnsubj:pass\t_\t_\n",
            "\n",
            "14\tподготовлена\tподготовить\tVERB\t_\tAspect=Perf|Gender=Fem|Number=Sing|Tense=Past|Variant=Short|VerbForm=Part|Voice=Pass\t10\tparataxis\t_\t_\n",
            "\n",
            "15\tпри\tпри\tADP\t_\t_\t17\tcase\t_\t_\n",
            "\n",
            "16\tфинансовой\tфинансовый\tADJ\t_\tCase=Loc|Degree=Pos|Gender=Fem|Number=Sing\t17\tamod\t_\t_\n",
            "\n",
            "17\tподдержке\tподдержка\tNOUN\t_\tAnimacy=Inan|Case=Loc|Gender=Fem|Number=Sing\t14\tobl\t_\t_\n",
            "\n",
            "18\tРФФИ\tрффи\tPROPN\t_\tAnimacy=Inan|Case=Gen|Gender=Masc|Number=Sing\t17\tnmod\t_\t_\n",
            "\n",
            "19\tпроект\tпроект\tNOUN\t_\tAnimacy=Inan|Case=Nom|Gender=Masc|Number=Sing\t18\tparataxis\t_\t_\n",
            "\n",
            "20\t-\t-\tPUNCT\t_\t_\t22\tpunct\t_\tSpaceAfter=No\n",
            "\n",
            "21\t-\t-\tPUNCT\t_\t_\t19\tpunct\t_\tSpaceAfter=No\n",
            "\n",
            "22\t.\t.\tPUNCT\t_\t_\t19\tpunct\t_\tSpaceAfter=No\n",
            "\n",
            "23\t.\t.\tPUNCT\t_\t_\t19\tpunct\t_\tSpaceAfter=No\n",
            "\n",
            "24\t.\t.\tPUNCT\t_\t_\t19\tpunct\t_\tSpaceAfter=No\n",
            "\n",
            "25\t.\t.\tPUNCT\t_\t_\t19\tpunct\t_\tSpaceAfter=No\n",
            "\n",
            "26\t.\t.\tPUNCT\t_\t_\t22\tpunct\t_\t_\n",
            "\n",
            "\n",
            "\n",
            "# sent_id = 3\n",
            "\n",
            "# text = Санкт-Петербургский государственный университет ВЕСТНИК САНКТ-ПЕТЕРБУРГСКОГО УНИВЕРСИТЕТА Т. . Вып.\n",
            "\n",
            "1\tСанкт-Петербургский\tсанкт-петербургский\tADJ\t_\tCase=Nom|Degree=Pos|Gender=Masc|Number=Sing\t3\tamod\t_\t_\n",
            "\n",
            "2\tгосударственный\tгосударственный\tADJ\t_\tCase=Nom|Degree=Pos|Gender=Masc|Number=Sing\t3\tamod\t_\t_\n",
            "\n",
            "3\tуниверситет\tуниверситет\tNOUN\t_\tAnimacy=Inan|Case=Nom|Gender=Masc|Number=Sing\t0\troot\t_\t_\n",
            "\n",
            "4\tВЕСТНИК\tВестник\tNOUN\t_\tAnimacy=Inan|Case=Gen|Gender=Fem|Number=Plur\t3\tnmod\t_\t_\n",
            "\n",
            "5\tСАНКТ-ПЕТЕРБУРГСКОГО\tсанкт-петербургский\tPROPN\t_\tAnimacy=Anim|Case=Gen|Gender=Masc|Number=Sing\t4\tnmod\t_\t_\n",
            "\n",
            "6\tУНИВЕРСИТЕТА\tУНИВЕРСИТЕТа.\tPROPN\t_\tAnimacy=Anim|Case=Gen|Gender=Masc|Number=Sing\t5\tflat:name\t_\t_\n",
            "\n",
            "7\tТ.\tт.\tPROPN\t_\tAnimacy=Anim|Case=Gen|Gender=Masc|Number=Sing\t5\tappos\t_\t_\n",
            "\n",
            "8\t.\t.\tPUNCT\t_\t_\t7\tpunct\t_\t_\n",
            "\n",
            "9\tВып\tВып\tPROPN\t_\tAnimacy=Inan|Case=Nom|Gender=Masc|Number=Sing\t7\tflat:name\t_\tSpaceAfter=No\n",
            "\n",
            "10\t.\t.\tPUNCT\t_\t_\t7\tpunct\t_\t_\n",
            "\n",
            "\n",
            "\n",
            "# sent_id = 4\n",
            "\n",
            "# text = ЭКОНОМИКАшедших десятилетия Россия пережила три циклических спада характерных для среднесрочных колебаний капиталистической экономики.\n",
            "\n",
            "1\tЭКОНОМИКАшедших\tЭКОНОМИКАшедший\tNOUN\t_\tAnimacy=Inan|Case=Gen|Gender=Fem|Number=Sing\t4\tobl\t_\t_\n",
            "\n",
            "2\tдесятилетия\tдесятилетие\tNOUN\t_\tAnimacy=Inan|Case=Gen|Gender=Neut|Number=Sing\t1\tnmod\t_\t_\n",
            "\n",
            "3\tРоссия\tроссия\tPROPN\t_\tAnimacy=Inan|Case=Nom|Gender=Fem|Number=Sing\t4\tnsubj\t_\t_\n",
            "\n",
            "4\tпережила\tпережить\tVERB\t_\tAspect=Perf|Gender=Fem|Mood=Ind|Number=Sing|Tense=Past|VerbForm=Fin|Voice=Act\t0\troot\t_\t_\n",
            "\n",
            "5\tтри\tтри\tNUM\t_\tAnimacy=Inan|Case=Acc\t7\tnummod:gov\t_\t_\n",
            "\n",
            "6\tциклических\tциклический\tADJ\t_\tCase=Gen|Degree=Pos|Number=Plur\t7\tamod\t_\t_\n",
            "\n",
            "7\tспада\tспад\tNOUN\t_\tAnimacy=Inan|Case=Gen|Gender=Masc|Number=Sing\t4\tobl\t_\t_\n",
            "\n",
            "8\tхарактерных\tхарактерный\tADJ\t_\tCase=Gen|Degree=Pos|Number=Plur\t7\tamod\t_\t_\n",
            "\n",
            "9\tдля\tдля\tADP\t_\t_\t11\tcase\t_\t_\n",
            "\n",
            "10\tсреднесрочных\tсреднесрочный\tADJ\t_\tCase=Gen|Degree=Pos|Number=Plur\t11\tamod\t_\t_\n",
            "\n",
            "11\tколебаний\tколебание\tNOUN\t_\tAnimacy=Inan|Case=Gen|Gender=Neut|Number=Plur\t8\tobl\t_\t_\n",
            "\n",
            "12\tкапиталистической\tкапиталистический\tADJ\t_\tCase=Gen|Degree=Pos|Gender=Fem|Number=Sing\t13\tamod\t_\t_\n",
            "\n",
            "13\tэкономики\tэкономика\tNOUN\t_\tAnimacy=Inan|Case=Gen|Gender=Fem|Number=Sing\t11\tnmod\t_\tSpaceAfter=No\n",
            "\n",
            "14\t.\t.\tPUNCT\t_\t_\t4\tpunct\t_\t_\n",
            "\n",
            "\n",
            "\n",
            "# sent_id = 5\n",
            "\n",
            "# text = При всех существенных отличиях свойственных этим кризисам в последовательности и взаимосвязи протекавших в экономике процессов прослеживается выраженная закономерность.\n",
            "\n",
            "1\tПри\tпри\tADP\t_\t_\t4\tcase\t_\t_\n",
            "\n",
            "2\tвсех\tвсе\tDET\t_\tCase=Loc|Number=Plur\t4\tdet\t_\t_\n",
            "\n",
            "3\tсущественных\tсущественный\tADJ\t_\tCase=Loc|Degree=Pos|Number=Plur\t4\tamod\t_\t_\n",
            "\n",
            "4\tотличиях\tотличие\tNOUN\t_\tAnimacy=Inan|Case=Loc|Gender=Neut|Number=Plur\t16\tobl\t_\t_\n",
            "\n",
            "5\tсвойственных\tсвойственный\tADJ\t_\tCase=Gen|Degree=Pos|Number=Plur\t4\tnmod\t_\t_\n",
            "\n",
            "6\tэтим\tэтот\tDET\t_\tCase=Dat|Number=Plur\t7\tdet\t_\t_\n",
            "\n",
            "7\tкризисам\tкризис\tNOUN\t_\tAnimacy=Inan|Case=Dat|Gender=Masc|Number=Plur\t5\tiobj\t_\t_\n",
            "\n",
            "8\tв\tв\tADP\t_\t_\t9\tcase\t_\tSpacesAfter= \n",
            "\n",
            "9\tпоследовательности\tпоследовательность\tNOUN\t_\tAnimacy=Inan|Case=Loc|Gender=Fem|Number=Sing\t5\tobl\t_\t_\n",
            "\n",
            "10\tи\tи\tCCONJ\t_\t_\t11\tcc\t_\tSpacesAfter= \n",
            "\n",
            "11\tвзаимосвязи\tвзаимосвязь\tNOUN\t_\tAnimacy=Inan|Case=Loc|Gender=Fem|Number=Sing\t9\tconj\t_\t_\n",
            "\n",
            "12\tпротекавших\tпротекать\tVERB\t_\tAspect=Imp|Case=Loc|Number=Plur|Tense=Past|VerbForm=Part|Voice=Act\t15\tacl\t_\t_\n",
            "\n",
            "13\tв\tв\tADP\t_\t_\t14\tcase\t_\tSpacesAfter= \\s\n",
            "\n",
            "14\tэкономике\tэкономика\tNOUN\t_\tAnimacy=Inan|Case=Loc|Gender=Fem|Number=Sing\t12\tobl\t_\t_\n",
            "\n",
            "15\tпроцессов\tпроцесс\tNOUN\t_\tAnimacy=Inan|Case=Gen|Gender=Masc|Number=Plur\t11\tnmod\t_\t_\n",
            "\n",
            "16\tпрослеживается\tпрослеживать\tVERB\t_\tAspect=Imp|Mood=Ind|Number=Sing|Person=3|Tense=Pres|VerbForm=Fin|Voice=Pass\t0\troot\t_\t_\n",
            "\n",
            "17\tвыраженная\tвыразить\tVERB\t_\tAspect=Perf|Case=Nom|Gender=Fem|Number=Sing|Tense=Past|VerbForm=Part|Voice=Pass\t18\tamod\t_\t_\n",
            "\n",
            "18\tзакономерность\tзакономерность\tNOUN\t_\tAnimacy=Inan|Case=Nom|Gender=Fem|Number=Sing\t16\tnsubj:pass\t_\tSpaceAfter=No\n",
            "\n",
            "19\t.\t.\tPUNCT\t_\t_\t16\tpunct\t_\t_\n",
            "\n",
            "\n",
            "\n",
            "# sent_id = 6\n",
            "\n",
            "# text = Накопленный опыт достаточен для того чтобы делать определенные выводы на будущее относительно наиболее уязвимых элементов российской экономической системы.\n",
            "\n",
            "1\tНакопленный\tнакопить\tVERB\t_\tAspect=Perf|Case=Nom|Gender=Masc|Number=Sing|Tense=Past|VerbForm=Part|Voice=Pass\t2\tamod\t_\t_\n",
            "\n",
            "2\tопыт\tопыт\tNOUN\t_\tAnimacy=Inan|Case=Nom|Gender=Masc|Number=Sing\t3\tnsubj\t_\t_\n",
            "\n",
            "3\tдостаточен\tдостаточный\tADJ\t_\tDegree=Pos|Gender=Masc|Number=Sing|Variant=Short\t0\troot\t_\t_\n",
            "\n",
            "4\tдля\tдля\tADP\t_\t_\t5\tcase\t_\t_\n",
            "\n",
            "5\tтого\tто\tPRON\t_\tAnimacy=Inan|Case=Gen|Gender=Neut|Number=Sing\t3\tobl\t_\t_\n",
            "\n",
            "6\tчтобы\tчтобы\tSCONJ\t_\tMood=Cnd\t7\tmark\t_\t_\n",
            "\n",
            "7\tделать\tделать\tVERB\t_\tAspect=Imp|VerbForm=Inf|Voice=Act\t3\tadvcl\t_\t_\n",
            "\n",
            "8\tопределенные\tопределенный\tADJ\t_\tAnimacy=Inan|Case=Acc|Degree=Pos|Number=Plur\t9\tamod\t_\t_\n",
            "\n",
            "9\tвыводы\tвывод\tNOUN\t_\tAnimacy=Inan|Case=Acc|Gender=Masc|Number=Plur\t7\tobj\t_\t_\n",
            "\n",
            "10\tна\tна\tADP\t_\t_\t11\tcase\t_\t_\n",
            "\n",
            "11\tбудущее\tбудущее\tNOUN\t_\tAnimacy=Inan|Case=Acc|Gender=Neut|Number=Sing\t9\tnmod\t_\t_\n",
            "\n",
            "12\tотносительно\tотносительно\tADP\t_\t_\t15\tcase\t_\t_\n",
            "\n",
            "13\tнаиболее\tнаиболее\tADV\t_\tDegree=Pos\t14\tobl\t_\t_\n",
            "\n",
            "14\tуязвимых\tуязвимый\tADJ\t_\tCase=Gen|Degree=Pos|Number=Plur\t15\tamod\t_\t_\n",
            "\n",
            "15\tэлементов\tэлемент\tNOUN\t_\tAnimacy=Inan|Case=Gen|Gender=Masc|Number=Plur\t7\tobl\t_\t_\n",
            "\n",
            "16\tроссийской\tроссийский\tADJ\t_\tCase=Gen|Degree=Pos|Gender=Fem|Number=Sing\t18\tamod\t_\t_\n",
            "\n",
            "17\tэкономической\tэкономический\tADJ\t_\tCase=Gen|Degree=Pos|Gender=Fem|Number=Sing\t18\tamod\t_\t_\n",
            "\n",
            "18\tсистемы\tсистема\tNOUN\t_\tAnimacy=Inan|Case=Gen|Gender=Fem|Number=Sing\t15\tnmod\t_\tSpaceAfter=No\n",
            "\n",
            "19\t.\t.\tPUNCT\t_\t_\t3\tpunct\t_\t_\n",
            "\n",
            "\n",
            "\n",
            "# sent_id = 7\n",
            "\n",
            "# text = Целями настоящей статьи являются выделение последовательно повторяющихся взаимообусловленных событий в ходе кризисного сжатия и дальнейшего перехода к рецессии всей экономики определение слабых мест в экономике делающих ее неустойчивой к внешним импульсам меняющим относительные цены и доступность финансовых ресурсов описание механизмов поддерживающих и усиливающих первоначальный импульс которые усугубляют падение российской экономики и препятствуют ее приспособлению к новым условиям.\n",
            "\n",
            "1\tЦелями\tцель\tNOUN\t_\tAnimacy=Anim|Case=Ins|Gender=Masc|Number=Plur\t4\tobl\t_\t_\n",
            "\n",
            "2\tнастоящей\tнастоящий\tADJ\t_\tCase=Gen|Degree=Pos|Gender=Fem|Number=Sing\t3\tamod\t_\t_\n",
            "\n",
            "3\tстатьи\tстатья\tNOUN\t_\tAnimacy=Inan|Case=Gen|Gender=Fem|Number=Sing\t1\tnmod\t_\t_\n",
            "\n",
            "4\tявляются\tявляться\tVERB\t_\tAspect=Imp|Mood=Ind|Number=Plur|Person=3|Tense=Pres|VerbForm=Fin|Voice=Mid\t0\troot\t_\t_\n",
            "\n",
            "5\tвыделение\tвыделение\tNOUN\t_\tAnimacy=Inan|Case=Nom|Gender=Neut|Number=Sing\t4\tnsubj\t_\t_\n",
            "\n",
            "6\tпоследовательно\tпоследовательно\tADV\t_\tDegree=Pos\t7\tadvmod\t_\t_\n",
            "\n",
            "7\tповторяющихся\tповторяться\tVERB\t_\tAspect=Imp|Case=Gen|Number=Plur|Tense=Pres|VerbForm=Part|Voice=Mid\t9\tacl\t_\t_\n",
            "\n",
            "8\tвзаимообусловленных\tвзаимообусловленный\tVERB\t_\tAspect=Perf|Case=Gen|Number=Plur|Tense=Past|VerbForm=Part|Voice=Pass\t9\tamod\t_\t_\n",
            "\n",
            "9\tсобытий\tсобытие\tNOUN\t_\tAnimacy=Inan|Case=Gen|Gender=Neut|Number=Plur\t5\tnmod\t_\t_\n",
            "\n",
            "10\tв\tв\tADP\t_\t_\t13\tcase\t_\tSpacesAfter= \n",
            "\n",
            "11\tходе\tход\tNOUN\t_\tAnimacy=Inan|Case=Loc|Gender=Masc|Number=Sing\t10\tfixed\t_\t_\n",
            "\n",
            "12\tкризисного\tкризисный\tADJ\t_\tCase=Gen|Degree=Pos|Gender=Neut|Number=Sing\t13\tamod\t_\t_\n",
            "\n",
            "13\tсжатия\tсжатие\tNOUN\t_\tAnimacy=Inan|Case=Gen|Gender=Neut|Number=Sing\t9\tnmod\t_\t_\n",
            "\n",
            "14\tи\tи\tCCONJ\t_\t_\t16\tcc\t_\tSpacesAfter= \n",
            "\n",
            "15\tдальнейшего\tдальнейший\tADJ\t_\tCase=Gen|Degree=Pos|Gender=Masc|Number=Sing\t16\tamod\t_\t_\n",
            "\n",
            "16\tперехода\tпереход\tNOUN\t_\tAnimacy=Inan|Case=Gen|Gender=Masc|Number=Sing\t13\tconj\t_\t_\n",
            "\n",
            "17\tк\tк\tADP\t_\t_\t18\tcase\t_\tSpacesAfter= \n",
            "\n",
            "18\tрецессии\tрецессия\tNOUN\t_\tAnimacy=Inan|Case=Dat|Gender=Fem|Number=Sing\t16\tnmod\t_\t_\n",
            "\n",
            "19\tвсей\tвесь\tDET\t_\tCase=Gen|Gender=Fem|Number=Sing\t20\tdet\t_\t_\n",
            "\n",
            "20\tэкономики\tэкономика\tNOUN\t_\tAnimacy=Inan|Case=Gen|Gender=Fem|Number=Sing\t18\tnmod\t_\t_\n",
            "\n",
            "21\tопределение\tопределение\tNOUN\t_\tAnimacy=Inan|Case=Nom|Gender=Neut|Number=Sing\t5\tparataxis\t_\t_\n",
            "\n",
            "22\tслабых\tслабый\tADJ\t_\tCase=Gen|Degree=Pos|Number=Plur\t23\tamod\t_\t_\n",
            "\n",
            "23\tмест\tместо\tNOUN\t_\tAnimacy=Inan|Case=Gen|Gender=Neut|Number=Plur\t21\tnmod\t_\t_\n",
            "\n",
            "24\tв\tв\tADP\t_\t_\t25\tcase\t_\tSpacesAfter= \n",
            "\n",
            "25\tэкономике\tэкономика\tNOUN\t_\tAnimacy=Inan|Case=Loc|Gender=Fem|Number=Sing\t23\tnmod\t_\t_\n",
            "\n",
            "26\tделающих\tделать\tVERB\t_\tAspect=Imp|Case=Gen|Number=Plur|Tense=Pres|VerbForm=Part|Voice=Act\t23\tacl\t_\t_\n",
            "\n",
            "27\tее\tона\tPRON\t_\tCase=Acc|Gender=Fem|Number=Sing|Person=3\t26\tobj\t_\t_\n",
            "\n",
            "28\tнеустойчивой\tнеустойчивый\tADJ\t_\tCase=Ins|Degree=Pos|Gender=Fem|Number=Sing\t26\tobl\t_\t_\n",
            "\n",
            "29\tк\tк\tADP\t_\t_\t31\tcase\t_\tSpacesAfter= \n",
            "\n",
            "30\tвнешним\tвнешний\tADJ\t_\tCase=Dat|Degree=Pos|Number=Plur\t31\tamod\t_\t_\n",
            "\n",
            "31\tимпульсам\tимпульс\tNOUN\t_\tAnimacy=Inan|Case=Dat|Gender=Masc|Number=Plur\t28\tnmod\t_\t_\n",
            "\n",
            "32\tменяющим\tменять\tVERB\t_\tAspect=Imp|Case=Dat|Number=Plur|Tense=Pres|VerbForm=Part|Voice=Act\t34\tamod\t_\t_\n",
            "\n",
            "33\tотносительные\tотносительный\tADJ\t_\tAnimacy=Inan|Case=Acc|Degree=Pos|Number=Plur\t34\tamod\t_\t_\n",
            "\n",
            "34\tцены\tцена\tNOUN\t_\tAnimacy=Inan|Case=Acc|Gender=Fem|Number=Plur\t31\tnmod\t_\t_\n",
            "\n",
            "35\tи\tи\tCCONJ\t_\t_\t36\tcc\t_\tSpacesAfter= \n",
            "\n",
            "36\tдоступность\tдоступность\tNOUN\t_\tAnimacy=Inan|Case=Acc|Gender=Fem|Number=Sing\t34\tconj\t_\t_\n",
            "\n",
            "37\tфинансовых\tфинансовый\tADJ\t_\tCase=Gen|Degree=Pos|Number=Plur\t38\tamod\t_\t_\n",
            "\n",
            "38\tресурсов\tресурс\tNOUN\t_\tAnimacy=Inan|Case=Gen|Gender=Masc|Number=Plur\t36\tnmod\t_\t_\n",
            "\n",
            "39\tописание\tописание\tNOUN\t_\tAnimacy=Inan|Case=Acc|Gender=Neut|Number=Sing\t34\tobj\t_\t_\n",
            "\n",
            "40\tмеханизмов\tмеханизм\tNOUN\t_\tAnimacy=Inan|Case=Gen|Gender=Masc|Number=Plur\t39\tnmod\t_\t_\n",
            "\n",
            "41\tподдерживающих\tподдерживать\tVERB\t_\tAspect=Imp|Case=Gen|Number=Plur|Tense=Pres|VerbForm=Part|Voice=Act\t40\tacl\t_\t_\n",
            "\n",
            "42\tи\tи\tCCONJ\t_\t_\t43\tcc\t_\tSpacesAfter= \n",
            "\n",
            "43\tусиливающих\tусиливать\tVERB\t_\tAspect=Imp|Case=Gen|Number=Plur|Tense=Pres|VerbForm=Part|Voice=Act\t41\tconj\t_\t_\n",
            "\n",
            "44\tпервоначальный\tпервоначальный\tADJ\t_\tAnimacy=Inan|Case=Acc|Degree=Pos|Gender=Masc|Number=Sing\t45\tamod\t_\t_\n",
            "\n",
            "45\tимпульс\tимпульс\tNOUN\t_\tAnimacy=Inan|Case=Acc|Gender=Masc|Number=Sing\t43\tobj\t_\t_\n",
            "\n",
            "46\tкоторые\tкоторый\tPRON\t_\tCase=Acc\t47\tobj\t_\t_\n",
            "\n",
            "47\tусугубляют\tусугублять\tVERB\t_\tAspect=Imp|Mood=Ind|Number=Plur|Person=3|Tense=Pres|VerbForm=Fin|Voice=Act\t45\tacl:relcl\t_\t_\n",
            "\n",
            "48\tпадение\tпадение\tNOUN\t_\tAnimacy=Inan|Case=Acc|Gender=Neut|Number=Sing\t47\tobj\t_\t_\n",
            "\n",
            "49\tроссийской\tроссийский\tADJ\t_\tCase=Gen|Degree=Pos|Gender=Fem|Number=Sing\t50\tamod\t_\t_\n",
            "\n",
            "50\tэкономики\tэкономика\tNOUN\t_\tAnimacy=Inan|Case=Gen|Gender=Fem|Number=Sing\t48\tnmod\t_\t_\n",
            "\n",
            "51\tи\tи\tCCONJ\t_\t_\t52\tcc\t_\tSpacesAfter= \\s\n",
            "\n",
            "52\tпрепятствуют\tпрепятствовать\tVERB\t_\tAspect=Imp|Mood=Ind|Number=Plur|Person=3|Tense=Pres|VerbForm=Fin|Voice=Act\t47\tconj\t_\t_\n",
            "\n",
            "53\tее\tона\tDET\t_\t_\t54\tdet\t_\t_\n",
            "\n",
            "54\tприспособлению\tприспособление\tNOUN\t_\tAnimacy=Inan|Case=Dat|Gender=Neut|Number=Sing\t52\tiobj\t_\t_\n",
            "\n",
            "55\tк\tк\tADP\t_\t_\t57\tcase\t_\tSpacesAfter= \n",
            "\n",
            "56\tновым\tновый\tADJ\t_\tCase=Dat|Degree=Pos|Number=Plur\t57\tamod\t_\t_\n",
            "\n",
            "57\tусловиям.\tусловиямя\tNOUN\t_\tAnimacy=Inan|Case=Gen|Gender=Neut|Number=Sing\t54\tnmod\t_\tSpaceAfter=No\n",
            "\n",
            "\n",
            "\n",
            "# sent_id = 8\n",
            "\n",
            "# text = Очевидно что уязвимость экономики к неблагоприятным внешним воздействиям обусловлена комплексом причин ликвидация которых означала бы ее переход к качественно иному состоянию.\n",
            "\n",
            "1\tОчевидно\tочевидно\tADV\t_\tDegree=Pos\t9\tmark\t_\t_\n",
            "\n",
            "2\tчто\tчто\tSCONJ\t_\t_\t1\tfixed\t_\t_\n",
            "\n",
            "3\tуязвимость\tуязвимость\tNOUN\t_\tAnimacy=Inan|Case=Nom|Gender=Fem|Number=Sing\t9\tnsubj:pass\t_\t_\n",
            "\n",
            "4\tэкономики\tэкономика\tNOUN\t_\tAnimacy=Inan|Case=Gen|Gender=Fem|Number=Sing\t3\tnmod\t_\t_\n",
            "\n",
            "5\tк\tк\tADP\t_\t_\t8\tcase\t_\tSpacesAfter= \\s\n",
            "\n",
            "6\tнеблагоприятным\tнеблагоприятный\tADJ\t_\tCase=Dat|Degree=Pos|Number=Plur\t8\tamod\t_\t_\n",
            "\n",
            "7\tвнешним\tвнешний\tADJ\t_\tCase=Dat|Degree=Pos|Number=Plur\t8\tamod\t_\t_\n",
            "\n",
            "8\tвоздействиям\tвоздействие\tNOUN\t_\tAnimacy=Inan|Case=Dat|Gender=Neut|Number=Plur\t3\tnmod\t_\t_\n",
            "\n",
            "9\tобусловлена\tобусловить\tVERB\t_\tAspect=Perf|Gender=Fem|Number=Sing|Tense=Past|Variant=Short|VerbForm=Part|Voice=Pass\t0\troot\t_\t_\n",
            "\n",
            "10\tкомплексом\tкомплекс\tNOUN\t_\tAnimacy=Inan|Case=Ins|Gender=Masc|Number=Sing\t9\tobl\t_\t_\n",
            "\n",
            "11\tпричин\tпричина\tNOUN\t_\tAnimacy=Inan|Case=Gen|Gender=Fem|Number=Plur\t10\tnmod\t_\t_\n",
            "\n",
            "12\tликвидация\tликвидация\tNOUN\t_\tAnimacy=Inan|Case=Nom|Gender=Fem|Number=Sing\t14\tnsubj\t_\t_\n",
            "\n",
            "13\tкоторых\tкоторый\tPRON\t_\tCase=Gen\t12\tnmod\t_\t_\n",
            "\n",
            "14\tозначала\tозначать\tVERB\t_\tAspect=Imp|Gender=Fem|Mood=Ind|Number=Sing|Tense=Past|VerbForm=Fin|Voice=Act\t11\tacl:relcl\t_\t_\n",
            "\n",
            "15\tбы\tбы\tPART\t_\tMood=Cnd\t14\taux\t_\t_\n",
            "\n",
            "16\tее\tее\tPRON\t_\tCase=Gen|Gender=Fem|Number=Sing|Person=3\t17\tnmod\t_\t_\n",
            "\n",
            "17\tпереход\tпереход\tNOUN\t_\tAnimacy=Inan|Case=Acc|Gender=Masc|Number=Sing\t14\tobj\t_\t_\n",
            "\n",
            "18\tк\tк\tADP\t_\t_\t21\tcase\t_\tSpacesAfter= \n",
            "\n",
            "19\tкачественно\tкачественно\tADV\t_\tDegree=Pos\t20\tobl\t_\t_\n",
            "\n",
            "20\tиному\tиной\tADJ\t_\tCase=Dat|Degree=Pos|Gender=Neut|Number=Sing\t21\tamod\t_\t_\n",
            "\n",
            "21\tсостоянию\tсостояние\tNOUN\t_\tAnimacy=Inan|Case=Dat|Gender=Neut|Number=Sing\t17\tnmod\t_\tSpaceAfter=No\n",
            "\n",
            "22\t.\t.\tPUNCT\t_\t_\t14\tpunct\t_\t_\n",
            "\n",
            "\n",
            "\n",
            "# sent_id = 9\n",
            "\n",
            "# text = Это требует длительных усилий по изменению отраслевой структуры экономики и существующей институциональной среды повышению эффективности государственного управления формированию современной инфраструктуры и т. д.\n",
            "\n",
            "1\tЭто\tэто\tPRON\t_\tAnimacy=Inan|Case=Nom|Gender=Neut|Number=Sing\t2\tnsubj\t_\t_\n",
            "\n",
            "2\tтребует\tтребовать\tVERB\t_\tAspect=Imp|Mood=Ind|Number=Sing|Person=3|Tense=Pres|VerbForm=Fin|Voice=Act\t0\troot\t_\t_\n",
            "\n",
            "3\tдлительных\tдлительный\tADJ\t_\tCase=Gen|Degree=Pos|Number=Plur\t4\tamod\t_\t_\n",
            "\n",
            "4\tусилий\tусилие\tNOUN\t_\tAnimacy=Inan|Case=Gen|Gender=Neut|Number=Plur\t2\tobl\t_\t_\n",
            "\n",
            "5\tпо\tпо\tADP\t_\t_\t6\tcase\t_\t_\n",
            "\n",
            "6\tизменению\tизменение\tNOUN\t_\tAnimacy=Inan|Case=Dat|Gender=Neut|Number=Sing\t4\tnmod\t_\t_\n",
            "\n",
            "7\tотраслевой\tотраслевой\tADJ\t_\tCase=Gen|Degree=Pos|Gender=Fem|Number=Sing\t8\tamod\t_\t_\n",
            "\n",
            "8\tструктуры\tструктура\tNOUN\t_\tAnimacy=Inan|Case=Gen|Gender=Fem|Number=Sing\t6\tnmod\t_\t_\n",
            "\n",
            "9\tэкономики\tэкономика\tNOUN\t_\tAnimacy=Inan|Case=Gen|Gender=Fem|Number=Sing\t8\tnmod\t_\t_\n",
            "\n",
            "10\tи\tи\tCCONJ\t_\t_\t13\tcc\t_\tSpacesAfter= \n",
            "\n",
            "11\tсуществующей\tсуществовать\tVERB\t_\tAspect=Imp|Case=Gen|Gender=Fem|Number=Sing|Tense=Pres|VerbForm=Part|Voice=Act\t13\tamod\t_\t_\n",
            "\n",
            "12\tинституциональной\tинституциональный\tADJ\t_\tCase=Gen|Degree=Pos|Gender=Fem|Number=Sing\t13\tamod\t_\t_\n",
            "\n",
            "13\tсреды\tсреда\tNOUN\t_\tAnimacy=Inan|Case=Gen|Gender=Fem|Number=Sing\t9\tconj\t_\t_\n",
            "\n",
            "14\tповышению\tповышение\tNOUN\t_\tAnimacy=Inan|Case=Dat|Gender=Neut|Number=Sing\t6\tiobj\t_\t_\n",
            "\n",
            "15\tэффективности\tэффективность\tNOUN\t_\tAnimacy=Inan|Case=Gen|Gender=Fem|Number=Sing\t14\tnmod\t_\t_\n",
            "\n",
            "16\tгосударственного\tгосударственный\tADJ\t_\tCase=Gen|Degree=Pos|Gender=Neut|Number=Sing\t17\tamod\t_\t_\n",
            "\n",
            "17\tуправления\tуправление\tNOUN\t_\tAnimacy=Inan|Case=Gen|Gender=Neut|Number=Sing\t15\tnmod\t_\t_\n",
            "\n",
            "18\tформированию\tформирование\tNOUN\t_\tAnimacy=Inan|Case=Dat|Gender=Neut|Number=Sing\t14\tparataxis\t_\t_\n",
            "\n",
            "19\tсовременной\tсовременный\tADJ\t_\tCase=Gen|Degree=Pos|Gender=Fem|Number=Sing\t20\tamod\t_\t_\n",
            "\n",
            "20\tинфраструктуры\tинфраструктура\tNOUN\t_\tAnimacy=Inan|Case=Gen|Gender=Fem|Number=Sing\t18\tnmod\t_\t_\n",
            "\n",
            "21\tи\tи\tCCONJ\t_\t_\t22\tcc\t_\tSpacesAfter= \n",
            "\n",
            "22\tт.\tтак\tADV\t_\tDegree=Pos\t18\tconj\t_\t_\n",
            "\n",
            "23\tд\tдалее\tADV\t_\tDegree=Pos\t22\tfixed\t_\tSpaceAfter=No\n",
            "\n",
            "24\t.\t.\tPUNCT\t_\t_\t18\tpunct\t_\t_\n",
            "\n",
            "\n",
            "\n",
            "# sent_id = 10\n",
            "\n",
            "# text = Иначе говоря плохая приспособляемость российской экономики к изменениям внешней среды является показателем ее отсталости от группы развитых стран.\n",
            "\n",
            "1\tИначе\tиначе\tADV\t_\tDegree=Pos\t2\tadvmod\t_\t_\n",
            "\n",
            "2\tговоря\tговорить\tVERB\t_\tAspect=Imp|Tense=Pres|VerbForm=Conv|Voice=Act\t11\tparataxis\t_\t_\n",
            "\n",
            "3\tплохая\tплохой\tADJ\t_\tCase=Nom|Degree=Pos|Gender=Fem|Number=Sing\t4\tamod\t_\t_\n",
            "\n",
            "4\tприспособляемость\tприспособляемость\tNOUN\t_\tAnimacy=Inan|Case=Nom|Gender=Fem|Number=Sing\t11\tnsubj\t_\t_\n",
            "\n",
            "5\tроссийской\tроссийский\tADJ\t_\tCase=Gen|Degree=Pos|Gender=Fem|Number=Sing\t6\tamod\t_\t_\n",
            "\n",
            "6\tэкономики\tэкономика\tNOUN\t_\tAnimacy=Inan|Case=Gen|Gender=Fem|Number=Sing\t4\tnmod\t_\t_\n",
            "\n",
            "7\tк\tк\tADP\t_\t_\t8\tcase\t_\tSpacesAfter= \n",
            "\n",
            "8\tизменениям\tизменение\tNOUN\t_\tAnimacy=Inan|Case=Dat|Gender=Neut|Number=Plur\t4\tnmod\t_\t_\n",
            "\n",
            "9\tвнешней\tвнешний\tADJ\t_\tCase=Gen|Degree=Pos|Gender=Fem|Number=Sing\t10\tamod\t_\t_\n",
            "\n",
            "10\tсреды\tсреда\tNOUN\t_\tAnimacy=Inan|Case=Gen|Gender=Fem|Number=Sing\t8\tnmod\t_\t_\n",
            "\n",
            "11\tявляется\tявляться\tVERB\t_\tAspect=Imp|Mood=Ind|Number=Sing|Person=3|Tense=Pres|VerbForm=Fin|Voice=Mid\t0\troot\t_\t_\n",
            "\n",
            "12\tпоказателем\tпоказатель\tNOUN\t_\tAnimacy=Inan|Case=Ins|Gender=Masc|Number=Sing\t11\tobl\t_\t_\n",
            "\n",
            "13\tее\tее\tDET\t_\t_\t14\tdet\t_\t_\n",
            "\n",
            "14\tотсталости\tотсталость\tNOUN\t_\tAnimacy=Inan|Case=Gen|Gender=Fem|Number=Sing\t12\tnmod\t_\t_\n",
            "\n",
            "15\tот\tот\tADP\t_\t_\t16\tcase\t_\t_\n",
            "\n",
            "16\tгруппы\tгруппа\tNOUN\t_\tAnimacy=Inan|Case=Gen|Gender=Fem|Number=Sing\t12\tnmod\t_\t_\n",
            "\n",
            "17\tразвитых\tразвитый\tADJ\t_\tCase=Gen|Degree=Pos|Number=Plur\t18\tamod\t_\t_\n",
            "\n",
            "18\tстран\tстрана\tNOUN\t_\tAnimacy=Inan|Case=Gen|Gender=Fem|Number=Plur\t16\tnmod\t_\tSpaceAfter=No\n",
            "\n",
            "19\t.\t.\tPUNCT\t_\t_\t11\tpunct\t_\t_\n",
            "\n",
            "\n",
            "\n",
            "# sent_id = 11\n",
            "\n",
            "# text = Важно отметить что все рассматриваемые российские кризисы продемонстрировали устойчиво повторяющуюся последовательность событий в финансовой сфере обусловливающих глубокое падение в реальном секторе.\n",
            "\n",
            "1\tВажно\tважный\tADJ\t_\tDegree=Pos|Gender=Neut|Number=Sing|Variant=Short\t0\troot\t_\t_\n",
            "\n",
            "2\tотметить\tотметить\tVERB\t_\tAspect=Perf|VerbForm=Inf|Voice=Act\t1\tcsubj\t_\t_\n",
            "\n",
            "3\tчто\tчто\tSCONJ\t_\t_\t8\tmark\t_\t_\n",
            "\n",
            "4\tвсе\tвсе\tDET\t_\tCase=Nom|Number=Plur\t7\tdet\t_\t_\n",
            "\n",
            "5\tрассматриваемые\tрассматривать\tVERB\t_\tAspect=Imp|Case=Nom|Number=Plur|Tense=Pres|VerbForm=Part|Voice=Pass\t7\tamod\t_\t_\n",
            "\n",
            "6\tроссийские\tроссийский\tADJ\t_\tCase=Nom|Degree=Pos|Number=Plur\t7\tamod\t_\t_\n",
            "\n",
            "7\tкризисы\tкризис\tNOUN\t_\tAnimacy=Inan|Case=Nom|Gender=Masc|Number=Plur\t8\tnsubj\t_\t_\n",
            "\n",
            "8\tпродемонстрировали\tдемонстрировать\tVERB\t_\tAspect=Perf|Mood=Ind|Number=Plur|Tense=Past|VerbForm=Fin|Voice=Act\t2\tccomp\t_\t_\n",
            "\n",
            "9\tустойчиво\tустойчиво\tADV\t_\tDegree=Pos\t8\tadvmod\t_\t_\n",
            "\n",
            "10\tповторяющуюся\tповторяющуюся\tVERB\t_\tAspect=Imp|Case=Acc|Gender=Fem|Number=Sing|Tense=Pres|VerbForm=Part|Voice=Mid\t11\tamod\t_\t_\n",
            "\n",
            "11\tпоследовательность\tпоследовательность\tNOUN\t_\tAnimacy=Inan|Case=Acc|Gender=Fem|Number=Sing\t8\tobj\t_\t_\n",
            "\n",
            "12\tсобытий\tсобытие\tNOUN\t_\tAnimacy=Inan|Case=Gen|Gender=Neut|Number=Plur\t11\tnmod\t_\t_\n",
            "\n",
            "13\tв\tв\tADP\t_\t_\t15\tcase\t_\tSpacesAfter= \n",
            "\n",
            "14\tфинансовой\tфинансовый\tADJ\t_\tCase=Loc|Degree=Pos|Gender=Fem|Number=Sing\t15\tamod\t_\t_\n",
            "\n",
            "15\tсфере\tсфера\tNOUN\t_\tAnimacy=Inan|Case=Loc|Gender=Fem|Number=Sing\t12\tnmod\t_\t_\n",
            "\n",
            "16\tобусловливающих\tобусловливать\tVERB\t_\tAspect=Imp|Case=Gen|Number=Plur|Tense=Pres|VerbForm=Part|Voice=Act\t11\tacl\t_\t_\n",
            "\n",
            "17\tглубокое\tглубокий\tADJ\t_\tCase=Acc|Degree=Pos|Gender=Neut|Number=Sing\t18\tamod\t_\t_\n",
            "\n",
            "18\tпадение\tпадение\tNOUN\t_\tAnimacy=Inan|Case=Acc|Gender=Neut|Number=Sing\t16\tobj\t_\t_\n",
            "\n",
            "19\tв\tв\tADP\t_\t_\t21\tcase\t_\tSpacesAfter= \n",
            "\n",
            "20\tреальном\tреальный\tADJ\t_\tCase=Loc|Degree=Pos|Gender=Masc|Number=Sing\t21\tamod\t_\t_\n",
            "\n",
            "21\tсекторе\tсектор\tNOUN\t_\tAnimacy=Inan|Case=Loc|Gender=Masc|Number=Sing\t18\tnmod\t_\tSpaceAfter=No\n",
            "\n",
            "22\t.\t.\tPUNCT\t_\t_\t16\tpunct\t_\t_\n",
            "\n",
            "\n",
            "\n",
            "# sent_id = 12\n",
            "\n",
            "# text = Если причины циклических колебаний экономической активности остаются предметом дискуссий в экономической науке и для их объяснения предлагается набор взаимоисключающих гипотез то пути распространения импульса в экономической системе способы выравнивания экономической динамики вполне поддаются анализу.\n",
            "\n",
            "1\tЕсли\tесли\tSCONJ\t_\t_\t7\tmark\t_\t_\n",
            "\n",
            "2\tпричины\tпричина\tNOUN\t_\tAnimacy=Inan|Case=Nom|Gender=Fem|Number=Plur\t7\tnsubj\t_\t_\n",
            "\n",
            "3\tциклических\tциклический\tADJ\t_\tCase=Gen|Degree=Pos|Number=Plur\t4\tamod\t_\t_\n",
            "\n",
            "4\tколебаний\tколебание\tNOUN\t_\tAnimacy=Inan|Case=Gen|Gender=Neut|Number=Plur\t2\tnmod\t_\t_\n",
            "\n",
            "5\tэкономической\tэкономический\tADJ\t_\tCase=Gen|Degree=Pos|Gender=Fem|Number=Sing\t6\tamod\t_\t_\n",
            "\n",
            "6\tактивности\tактивность\tNOUN\t_\tAnimacy=Inan|Case=Gen|Gender=Fem|Number=Sing\t4\tnmod\t_\t_\n",
            "\n",
            "7\tостаются\tоставаться\tVERB\t_\tAspect=Imp|Mood=Ind|Number=Plur|Person=3|Tense=Pres|VerbForm=Fin|Voice=Mid\t0\troot\t_\t_\n",
            "\n",
            "8\tпредметом\tпредмет\tNOUN\t_\tAnimacy=Inan|Case=Ins|Gender=Masc|Number=Sing\t7\tobl\t_\t_\n",
            "\n",
            "9\tдискуссий\tдискуссия\tNOUN\t_\tAnimacy=Inan|Case=Gen|Gender=Fem|Number=Plur\t8\tnmod\t_\t_\n",
            "\n",
            "10\tв\tв\tADP\t_\t_\t12\tcase\t_\tSpacesAfter= \n",
            "\n",
            "11\tэкономической\tэкономический\tADJ\t_\tCase=Loc|Degree=Pos|Gender=Fem|Number=Sing\t12\tamod\t_\t_\n",
            "\n",
            "12\tнауке\tнаука\tNOUN\t_\tAnimacy=Inan|Case=Loc|Gender=Fem|Number=Sing\t9\tnmod\t_\t_\n",
            "\n",
            "13\tи\tи\tCCONJ\t_\t_\t17\tcc\t_\tSpacesAfter= \n",
            "\n",
            "14\tдля\tдля\tADP\t_\t_\t16\tcase\t_\t_\n",
            "\n",
            "15\tих\tих\tDET\t_\t_\t16\tdet\t_\t_\n",
            "\n",
            "16\tобъяснения\tобъяснение\tNOUN\t_\tAnimacy=Inan|Case=Gen|Gender=Neut|Number=Sing\t17\tobl\t_\t_\n",
            "\n",
            "17\tпредлагается\tпредлагать\tVERB\t_\tAspect=Imp|Mood=Ind|Number=Sing|Person=3|Tense=Pres|VerbForm=Fin|Voice=Pass\t7\tconj\t_\t_\n",
            "\n",
            "18\tнабор\tнабор\tNOUN\t_\tAnimacy=Inan|Case=Nom|Gender=Masc|Number=Sing\t33\tnsubj\t_\t_\n",
            "\n",
            "19\tвзаимоисключающих\tвзаимоисключать\tVERB\t_\tAspect=Imp|Case=Gen|Number=Plur|Tense=Pres|VerbForm=Part|Voice=Act\t20\tamod\t_\t_\n",
            "\n",
            "20\tгипотез\tгипотеза\tNOUN\t_\tAnimacy=Inan|Case=Gen|Gender=Fem|Number=Plur\t18\tnmod\t_\t_\n",
            "\n",
            "21\tто\tто\tSCONJ\t_\t_\t33\tmark\t_\t_\n",
            "\n",
            "22\tпути\tпуть\tNOUN\t_\tAnimacy=Inan|Case=Gen|Gender=Masc|Number=Sing\t33\tobl\t_\t_\n",
            "\n",
            "23\tраспространения\tраспространение\tNOUN\t_\tAnimacy=Inan|Case=Gen|Gender=Neut|Number=Sing\t22\tnmod\t_\t_\n",
            "\n",
            "24\tимпульса\tимпульс\tNOUN\t_\tAnimacy=Inan|Case=Gen|Gender=Masc|Number=Sing\t23\tnmod\t_\t_\n",
            "\n",
            "25\tв\tв\tADP\t_\t_\t27\tcase\t_\tSpacesAfter= \n",
            "\n",
            "26\tэкономической\tэкономический\tADJ\t_\tCase=Loc|Degree=Pos|Gender=Fem|Number=Sing\t27\tamod\t_\t_\n",
            "\n",
            "27\tсистеме\tсистема\tNOUN\t_\tAnimacy=Inan|Case=Loc|Gender=Fem|Number=Sing\t23\tnmod\t_\t_\n",
            "\n",
            "28\tспособы\tспособ\tNOUN\t_\tAnimacy=Inan|Case=Nom|Gender=Masc|Number=Plur\t33\tnsubj\t_\t_\n",
            "\n",
            "29\tвыравнивания\tвыравнивание\tNOUN\t_\tAnimacy=Inan|Case=Gen|Gender=Neut|Number=Sing\t28\tnmod\t_\t_\n",
            "\n",
            "30\tэкономической\tэкономический\tADJ\t_\tCase=Gen|Degree=Pos|Gender=Fem|Number=Sing\t31\tamod\t_\t_\n",
            "\n",
            "31\tдинамики\tдинамика\tNOUN\t_\tAnimacy=Inan|Case=Gen|Gender=Fem|Number=Sing\t29\tnmod\t_\t_\n",
            "\n",
            "32\tвполне\tвполне\tADV\t_\tDegree=Pos\t33\tadvmod\t_\t_\n",
            "\n",
            "33\tподдаются\tподдаваться\tVERB\t_\tAspect=Imp|Mood=Ind|Number=Plur|Person=3|Tense=Pres|VerbForm=Fin|Voice=Mid\t17\tparataxis\t_\t_\n",
            "\n",
            "34\tанализу\tанализ\tNOUN\t_\tAnimacy=Inan|Case=Dat|Gender=Masc|Number=Sing\t33\tiobj\t_\tSpaceAfter=No\n",
            "\n",
            "35\t.\t.\tPUNCT\t_\t_\t33\tpunct\t_\t_\n",
            "\n",
            "\n",
            "\n",
            "# sent_id = 13\n",
            "\n",
            "# text = Предметом рассмотрения в данной статье выступает исключительно российская экономика и протекающие в ней кризисные процессы.\n",
            "\n",
            "1\tПредметом\tпредмет\tNOUN\t_\tAnimacy=Inan|Case=Ins|Gender=Masc|Number=Sing\t6\tobl\t_\t_\n",
            "\n",
            "2\tрассмотрения\tрассмотрение\tNOUN\t_\tAnimacy=Inan|Case=Gen|Gender=Neut|Number=Sing\t1\tnmod\t_\t_\n",
            "\n",
            "3\tв\tв\tADP\t_\t_\t5\tcase\t_\tSpacesAfter= \n",
            "\n",
            "4\tданной\tданный\tADJ\t_\tCase=Loc|Degree=Pos|Gender=Fem|Number=Sing\t5\tamod\t_\t_\n",
            "\n",
            "5\tстатье\tстатья\tNOUN\t_\tAnimacy=Inan|Case=Loc|Gender=Fem|Number=Sing\t2\tnmod\t_\t_\n",
            "\n",
            "6\tвыступает\tвыступать\tVERB\t_\tAspect=Imp|Mood=Ind|Number=Sing|Person=3|Tense=Pres|VerbForm=Fin|Voice=Act\t0\troot\t_\t_\n",
            "\n",
            "7\tисключительно\tисключительно\tADV\t_\tDegree=Pos\t8\tobl\t_\t_\n",
            "\n",
            "8\tроссийская\tроссийский\tADJ\t_\tCase=Nom|Degree=Pos|Gender=Fem|Number=Sing\t9\tamod\t_\t_\n",
            "\n",
            "9\tэкономика\tэкономика\tNOUN\t_\tAnimacy=Inan|Case=Nom|Gender=Fem|Number=Sing\t6\tnsubj\t_\t_\n",
            "\n",
            "10\tи\tи\tCCONJ\t_\t_\t15\tcc\t_\tSpacesAfter= \n",
            "\n",
            "11\tпротекающие\tпротекать\tVERB\t_\tAspect=Imp|Case=Nom|Number=Plur|Tense=Pres|VerbForm=Part|Voice=Act\t15\tacl\t_\t_\n",
            "\n",
            "12\tв\tв\tADP\t_\t_\t13\tcase\t_\tSpacesAfter= \n",
            "\n",
            "13\tней\tона\tPRON\t_\tCase=Loc|Gender=Fem|Number=Sing|Person=3\t11\tobl\t_\t_\n",
            "\n",
            "14\tкризисные\tкризисный\tADJ\t_\tCase=Nom|Degree=Pos|Number=Plur\t15\tamod\t_\t_\n",
            "\n",
            "15\tпроцессы\tпроцесс\tNOUN\t_\tAnimacy=Inan|Case=Nom|Gender=Masc|Number=Plur\t9\tconj\t_\tSpaceAfter=No\n",
            "\n",
            "16\t.\t.\tPUNCT\t_\t_\t6\tpunct\t_\t_\n",
            "\n",
            "\n",
            "\n",
            "# sent_id = 14\n",
            "\n",
            "# text = Выявление специфических для России механизмов усиления исходного импульса порождаемого колебаниями конъюнктуры мировых рынков важно для формирования мер сглаживания экономической динамики и является целью настоящей статьи..\n",
            "\n",
            "1\tВыявление\tвыявление\tNOUN\t_\tAnimacy=Inan|Case=Nom|Gender=Neut|Number=Sing\t14\tnsubj\t_\t_\n",
            "\n",
            "2\tспецифических\tспецифический\tADJ\t_\tCase=Gen|Degree=Pos|Number=Plur\t5\tamod\t_\t_\n",
            "\n",
            "3\tдля\tдля\tADP\t_\t_\t4\tcase\t_\t_\n",
            "\n",
            "4\tРоссии\tроссия\tPROPN\t_\tAnimacy=Inan|Case=Gen|Gender=Fem|Number=Sing\t2\tobl\t_\t_\n",
            "\n",
            "5\tмеханизмов\tмеханизм\tNOUN\t_\tAnimacy=Inan|Case=Gen|Gender=Masc|Number=Plur\t1\tnmod\t_\t_\n",
            "\n",
            "6\tусиления\tусиление\tNOUN\t_\tAnimacy=Inan|Case=Gen|Gender=Neut|Number=Sing\t5\tnmod\t_\t_\n",
            "\n",
            "7\tисходного\tисходный\tADJ\t_\tCase=Gen|Degree=Pos|Gender=Masc|Number=Sing\t8\tamod\t_\t_\n",
            "\n",
            "8\tимпульса\tимпульс\tNOUN\t_\tAnimacy=Inan|Case=Gen|Gender=Masc|Number=Sing\t6\tnmod\t_\t_\n",
            "\n",
            "9\tпорождаемого\tпорождать\tVERB\t_\tAspect=Imp|Case=Gen|Gender=Masc|Number=Sing|Tense=Pres|VerbForm=Part|Voice=Pass\t8\tacl\t_\t_\n",
            "\n",
            "10\tколебаниями\tколебание\tNOUN\t_\tAnimacy=Inan|Case=Ins|Gender=Neut|Number=Plur\t9\tobl\t_\t_\n",
            "\n",
            "11\tконъюнктуры\tконъюнктура\tNOUN\t_\tAnimacy=Inan|Case=Gen|Gender=Fem|Number=Sing\t10\tnmod\t_\t_\n",
            "\n",
            "12\tмировых\tмировой\tADJ\t_\tCase=Gen|Degree=Pos|Number=Plur\t13\tamod\t_\t_\n",
            "\n",
            "13\tрынков\tрынок\tNOUN\t_\tAnimacy=Inan|Case=Gen|Gender=Masc|Number=Plur\t11\tnmod\t_\t_\n",
            "\n",
            "14\tважно\tважный\tADJ\t_\tDegree=Pos|Gender=Neut|Number=Sing|Variant=Short\t0\troot\t_\t_\n",
            "\n",
            "15\tдля\tдля\tADP\t_\t_\t16\tcase\t_\t_\n",
            "\n",
            "16\tформирования\tформирование\tNOUN\t_\tAnimacy=Inan|Case=Gen|Gender=Neut|Number=Sing\t14\tobl\t_\t_\n",
            "\n",
            "17\tмер\tмера\tNOUN\t_\tAnimacy=Inan|Case=Gen|Gender=Fem|Number=Plur\t16\tnmod\t_\t_\n",
            "\n",
            "18\tсглаживания\tсглаживание\tNOUN\t_\tAnimacy=Inan|Case=Gen|Gender=Neut|Number=Sing\t17\tnmod\t_\t_\n",
            "\n",
            "19\tэкономической\tэкономический\tADJ\t_\tCase=Gen|Degree=Pos|Gender=Fem|Number=Sing\t20\tamod\t_\t_\n",
            "\n",
            "20\tдинамики\tдинамика\tNOUN\t_\tAnimacy=Inan|Case=Gen|Gender=Fem|Number=Sing\t18\tnmod\t_\t_\n",
            "\n",
            "21\tи\tи\tCCONJ\t_\t_\t22\tcc\t_\tSpacesAfter= \n",
            "\n",
            "22\tявляется\tявляться\tVERB\t_\tAspect=Imp|Mood=Ind|Number=Sing|Person=3|Tense=Pres|VerbForm=Fin|Voice=Mid\t14\tconj\t_\t_\n",
            "\n",
            "23\tцелью\tцель\tNOUN\t_\tAnimacy=Inan|Case=Ins|Gender=Fem|Number=Sing\t22\tobl\t_\t_\n",
            "\n",
            "24\tнастоящей\tнастоящий\tADJ\t_\tCase=Gen|Degree=Pos|Gender=Fem|Number=Sing\t25\tamod\t_\t_\n",
            "\n",
            "25\tстатьи\tстатья\tNOUN\t_\tAnimacy=Inan|Case=Gen|Gender=Fem|Number=Sing\t23\tnmod\t_\tSpaceAfter=No\n",
            "\n",
            "26\t.\t.\tPUNCT\t_\t_\t25\tpunct\t_\tSpaceAfter=No\n",
            "\n",
            "27\t.\t.\tPUNCT\t_\t_\t14\tpunct\t_\tSpacesAfter= \n",
            "\n",
            "\n",
            "\n",
            "# sent_id = 15\n",
            "\n",
            "# text = Анализ кризисов в российской экономической литературеТри последних кризиса вызвали активные дебаты в экономической литературе как по вопросу об их природе так и о тех последствиях которые они должны оказать на российскую экономику.\n",
            "\n",
            "1\tАнализ\tанализ\tNOUN\t_\tAnimacy=Inan|Case=Nom|Gender=Masc|Number=Sing\t9\tnsubj\t_\t_\n",
            "\n",
            "2\tкризисов\tкризис\tNOUN\t_\tAnimacy=Inan|Case=Gen|Gender=Masc|Number=Plur\t1\tnmod\t_\t_\n",
            "\n",
            "3\tв\tв\tADP\t_\t_\t8\tcase\t_\tSpacesAfter= \n",
            "\n",
            "4\tроссийской\tроссийский\tADJ\t_\tCase=Loc|Degree=Pos|Gender=Fem|Number=Sing\t8\tamod\t_\t_\n",
            "\n",
            "5\tэкономической\tэкономический\tADJ\t_\tCase=Loc|Degree=Pos|Gender=Fem|Number=Sing\t8\tamod\t_\t_\n",
            "\n",
            "6\tлитературеТри\tлитературеТри\tNUM\t_\tCase=Nom\t8\tnummod:gov\t_\t_\n",
            "\n",
            "7\tпоследних\tпоследний\tADJ\t_\tCase=Gen|Degree=Pos|Number=Plur\t8\tamod\t_\t_\n",
            "\n",
            "8\tкризиса\tкризис\tNOUN\t_\tAnimacy=Inan|Case=Gen|Gender=Masc|Number=Sing\t2\tnmod\t_\t_\n",
            "\n",
            "9\tвызвали\tвызвать\tVERB\t_\tAspect=Perf|Mood=Ind|Number=Plur|Tense=Past|VerbForm=Fin|Voice=Act\t0\troot\t_\t_\n",
            "\n",
            "10\tактивные\tактивный\tADJ\t_\tCase=Nom|Degree=Pos|Number=Plur\t11\tamod\t_\t_\n",
            "\n",
            "11\tдебаты\tдебаты\tNOUN\t_\tAnimacy=Inan|Case=Nom|Gender=Masc|Number=Plur\t28\tnsubj\t_\t_\n",
            "\n",
            "12\tв\tв\tADP\t_\t_\t14\tcase\t_\tSpacesAfter= \n",
            "\n",
            "13\tэкономической\tэкономический\tADJ\t_\tCase=Loc|Degree=Pos|Gender=Fem|Number=Sing\t14\tamod\t_\t_\n",
            "\n",
            "14\tлитературе\tлитература\tNOUN\t_\tAnimacy=Inan|Case=Loc|Gender=Fem|Number=Sing\t28\tobl\t_\t_\n",
            "\n",
            "15\tкак\tкак\tSCONJ\t_\t_\t17\tmark\t_\t_\n",
            "\n",
            "16\tпо\tпо\tADP\t_\t_\t17\tcase\t_\t_\n",
            "\n",
            "17\tвопросу\tвопрос\tNOUN\t_\tAnimacy=Inan|Case=Dat|Gender=Masc|Number=Sing\t28\tobl\t_\t_\n",
            "\n",
            "18\tоб\tо\tADP\t_\t_\t20\tcase\t_\t_\n",
            "\n",
            "19\tих\tих\tDET\t_\t_\t20\tdet\t_\t_\n",
            "\n",
            "20\tприроде\tприрода\tNOUN\t_\tAnimacy=Inan|Case=Loc|Gender=Fem|Number=Sing\t17\tnmod\t_\t_\n",
            "\n",
            "21\tтак\tтак\tADV\t_\tDegree=Pos\t28\tadvmod\t_\t_\n",
            "\n",
            "22\tи\tи\tPART\t_\t_\t21\tfixed\t_\tSpacesAfter= \n",
            "\n",
            "23\tо\tо\tADP\t_\t_\t25\tcase\t_\tSpacesAfter= \n",
            "\n",
            "24\tтех\tтот\tDET\t_\tCase=Loc|Number=Plur\t25\tdet\t_\t_\n",
            "\n",
            "25\tпоследствиях\tпоследствие\tNOUN\t_\tAnimacy=Inan|Case=Loc|Gender=Neut|Number=Plur\t28\tobl\t_\t_\n",
            "\n",
            "26\tкоторые\tкоторый\tPRON\t_\tCase=Acc\t25\tnmod\t_\t_\n",
            "\n",
            "27\tони\tони\tPRON\t_\tCase=Nom|Number=Plur|Person=3\t28\tnsubj\t_\t_\n",
            "\n",
            "28\tдолжны\tдолжен\tADJ\t_\tDegree=Pos|Number=Plur|Variant=Short\t9\tparataxis\t_\t_\n",
            "\n",
            "29\tоказать\tоказать\tVERB\t_\tAspect=Perf|VerbForm=Inf|Voice=Act\t28\txcomp\t_\t_\n",
            "\n",
            "30\tна\tна\tADP\t_\t_\t32\tcase\t_\t_\n",
            "\n",
            "31\tроссийскую\tроссийский\tADJ\t_\tCase=Acc|Degree=Pos|Gender=Fem|Number=Sing\t32\tamod\t_\t_\n",
            "\n",
            "32\tэкономику\tэкономика\tNOUN\t_\tAnimacy=Inan|Case=Acc|Gender=Fem|Number=Sing\t29\tobl\t_\tSpaceAfter=No\n",
            "\n",
            "33\t.\t.\tPUNCT\t_\t_\t28\tpunct\t_\t_\n",
            "\n",
            "\n",
            "\n",
            "# sent_id = 16\n",
            "\n",
            "# text = По понятным причинам количество публикаций по данной проблематике возрастает в период падения экономики и в ближайшие два года после его завершения.\n",
            "\n",
            "1\tПо\tпо\tADP\t_\t_\t3\tcase\t_\t_\n",
            "\n",
            "2\tпонятным\tпонятный\tADJ\t_\tCase=Dat|Degree=Pos|Number=Plur\t3\tamod\t_\t_\n",
            "\n",
            "3\tпричинам\tпричина\tNOUN\t_\tAnimacy=Inan|Case=Dat|Gender=Fem|Number=Plur\t9\tobl\t_\t_\n",
            "\n",
            "4\tколичество\tколичество\tNOUN\t_\tAnimacy=Inan|Case=Nom|Gender=Neut|Number=Sing\t9\tnsubj\t_\t_\n",
            "\n",
            "5\tпубликаций\tпубликация\tNOUN\t_\tAnimacy=Inan|Case=Gen|Gender=Fem|Number=Plur\t4\tnmod\t_\t_\n",
            "\n",
            "6\tпо\tпо\tADP\t_\t_\t8\tcase\t_\t_\n",
            "\n",
            "7\tданной\tданный\tADJ\t_\tCase=Dat|Degree=Pos|Gender=Fem|Number=Sing\t8\tamod\t_\t_\n",
            "\n",
            "8\tпроблематике\tпроблематика\tNOUN\t_\tAnimacy=Inan|Case=Dat|Gender=Fem|Number=Sing\t5\tnmod\t_\t_\n",
            "\n",
            "9\tвозрастает\tвозрастать\tVERB\t_\tAspect=Imp|Mood=Ind|Number=Sing|Person=3|Tense=Pres|VerbForm=Fin|Voice=Act\t0\troot\t_\t_\n",
            "\n",
            "10\tв\tв\tADP\t_\t_\t11\tcase\t_\tSpacesAfter= \n",
            "\n",
            "11\tпериод\tпериод\tNOUN\t_\tAnimacy=Inan|Case=Acc|Gender=Masc|Number=Sing\t9\tobl\t_\t_\n",
            "\n",
            "12\tпадения\tпадение\tNOUN\t_\tAnimacy=Inan|Case=Gen|Gender=Neut|Number=Sing\t11\tnmod\t_\t_\n",
            "\n",
            "13\tэкономики\tэкономика\tNOUN\t_\tAnimacy=Inan|Case=Gen|Gender=Fem|Number=Sing\t12\tnmod\t_\t_\n",
            "\n",
            "14\tи\tи\tCCONJ\t_\t_\t18\tcc\t_\t_\n",
            "\n",
            "15\tв\tв\tADP\t_\t_\t18\tcase\t_\tSpacesAfter= \n",
            "\n",
            "16\tближайшие\tближайший\tADJ\t_\tAnimacy=Inan|Case=Acc|Degree=Pos|Number=Plur\t17\tamod\t_\t_\n",
            "\n",
            "17\tдва\tдва\tNUM\t_\tAnimacy=Inan|Case=Acc|Gender=Masc\t18\tnummod:gov\t_\t_\n",
            "\n",
            "18\tгода\tгод\tNOUN\t_\tAnimacy=Inan|Case=Gen|Gender=Masc|Number=Sing\t9\tobl\t_\t_\n",
            "\n",
            "19\tпосле\tпосле\tADP\t_\t_\t21\tcase\t_\t_\n",
            "\n",
            "20\tего\tего\tDET\t_\t_\t21\tdet\t_\t_\n",
            "\n",
            "21\tзавершения\tзавершение\tNOUN\t_\tAnimacy=Inan|Case=Gen|Gender=Neut|Number=Sing\t18\tnmod\t_\tSpaceAfter=No\n",
            "\n",
            "22\t.\t.\tPUNCT\t_\t_\t18\tpunct\t_\t_\n",
            "\n",
            "\n",
            "\n",
            "# sent_id = 17\n",
            "\n",
            "# text = Вестник СПбГУ.\n",
            "\n",
            "1\tВестник\tвестник\tNOUN\t_\tAnimacy=Inan|Case=Nom|Gender=Masc|Number=Sing\t0\troot\t_\t_\n",
            "\n",
            "2\tСПбГУ.\tСПбГУ.\tNOUN\t_\tAnimacy=Inan|Case=Gen|Gender=Fem|Number=Sing\t1\tnmod\t_\t_\n",
            "\n",
            "\n",
            "\n",
            "# sent_id = 18\n",
            "\n",
            "# text = Экономика.\n",
            "\n",
            "1\tЭкономика\tэкономика\tNOUN\t_\tAnimacy=Inan|Case=Nom|Gender=Fem|Number=Sing\t0\troot\t_\tSpaceAfter=No\n",
            "\n",
            "2\t.\t.\tPUNCT\t_\t_\t1\tpunct\t_\t_\n",
            "\n",
            "\n",
            "\n",
            "# sent_id = 19\n",
            "\n",
            "# text = . Т.\n",
            "\n",
            "1\t.\t.\tPUNCT\t_\t_\t2\tpunct\t_\t_\n",
            "\n",
            "2\tТ.\tт.\tPROPN\t_\tAnimacy=Anim|Case=Dat|Gender=Fem|Number=Sing\t0\troot\t_\t_\n",
            "\n",
            "\n",
            "\n",
            "# sent_id = 20\n",
            "\n",
            "# text = . Вып. балансированности в России.\n",
            "\n",
            "1\t.\t.\tPUNCT\t_\t_\t3\tpunct\t_\t_\n",
            "\n",
            "2\tВып.\tВыподобный\tADJ\t_\tCase=Nom|Degree=Pos|Gender=Neut|Number=Sing\t3\tamod\t_\t_\n",
            "\n",
            "3\tбалансированности\tбалансированность\tNOUN\t_\tAnimacy=Inan|Case=Gen|Gender=Fem|Number=Sing\t0\troot\t_\t_\n",
            "\n",
            "4\tв\tв\tADP\t_\t_\t5\tcase\t_\tSpacesAfter= \n",
            "\n",
            "5\tРоссии\tроссия\tPROPN\t_\tAnimacy=Inan|Case=Loc|Gender=Fem|Number=Sing\t3\tnmod\t_\tSpaceAfter=No\n",
            "\n",
            "6\t.\t.\tPUNCT\t_\t_\t3\tpunct\t_\t_\n",
            "\n",
            "\n",
            "\n",
            "# sent_id = 21\n",
            "\n",
            "# text = Его начало объясняли с одной стороны отголосками азиатского кризиса с другой лопнувшим пузырем государственного долга.\n",
            "\n",
            "1\tЕго\tон\tDET\t_\t_\t2\tdet\t_\t_\n",
            "\n",
            "2\tначало\tначать\tNOUN\t_\tAnimacy=Inan|Case=Acc|Gender=Neut|Number=Sing\t3\tobj\t_\t_\n",
            "\n",
            "3\tобъясняли\tобъяснять\tVERB\t_\tAspect=Imp|Mood=Ind|Number=Plur|Tense=Past|VerbForm=Fin|Voice=Act\t0\troot\t_\t_\n",
            "\n",
            "4\tс\tс\tADP\t_\t_\t6\tcase\t_\tSpacesAfter= \n",
            "\n",
            "5\tодной\tодин\tNUM\t_\tCase=Gen|Gender=Fem\t6\tnummod\t_\t_\n",
            "\n",
            "6\tстороны\tсторона\tNOUN\t_\tAnimacy=Inan|Case=Gen|Gender=Fem|Number=Sing\t3\tobl\t_\t_\n",
            "\n",
            "7\tотголосками\tотголосок\tNOUN\t_\tAnimacy=Inan|Case=Ins|Gender=Fem|Number=Plur\t3\tobl\t_\t_\n",
            "\n",
            "8\tазиатского\tазиатский\tADJ\t_\tCase=Gen|Degree=Pos|Gender=Masc|Number=Sing\t9\tamod\t_\t_\n",
            "\n",
            "9\tкризиса\tкризис\tNOUN\t_\tAnimacy=Inan|Case=Gen|Gender=Masc|Number=Sing\t7\tnmod\t_\t_\n",
            "\n",
            "10\tс\tс\tADP\t_\t_\t13\tcase\t_\tSpacesAfter= \n",
            "\n",
            "11\tдругой\tдругой\tADJ\t_\tCase=Gen|Degree=Pos|Gender=Fem|Number=Sing\t13\tamod\t_\tSpacesAfter= \\s\n",
            "\n",
            "12\tлопнувшим\tлопнуть\tVERB\t_\tAspect=Perf|Case=Ins|Gender=Masc|Number=Sing|Tense=Past|VerbForm=Part|Voice=Act\t13\tamod\t_\t_\n",
            "\n",
            "13\tпузырем\tпузырь\tNOUN\t_\tAnimacy=Inan|Case=Ins|Gender=Masc|Number=Sing\t3\tobl\t_\t_\n",
            "\n",
            "14\tгосударственного\tгосударственный\tADJ\t_\tCase=Gen|Degree=Pos|Gender=Masc|Number=Sing\t15\tamod\t_\t_\n",
            "\n",
            "15\tдолга\tдолг\tNOUN\t_\tAnimacy=Inan|Case=Gen|Gender=Masc|Number=Sing\t13\tnmod\t_\tSpaceAfter=No\n",
            "\n",
            "16\t.\t.\tPUNCT\t_\t_\t3\tpunct\t_\t_\n",
            "\n",
            "\n",
            "\n",
            "# sent_id = 22\n",
            "\n",
            "# text = Хотя при этом в литературе отмечается что сам кризис государственных финансов и проблемы платежного баланса были вызваны понижением нефтяных цен Синельников-Мурылев и др.\n",
            "\n",
            "1\tХотя\tхотя\tSCONJ\t_\t_\t6\tmark\t_\t_\n",
            "\n",
            "2\tпри\tпри\tADP\t_\t_\t3\tcase\t_\t_\n",
            "\n",
            "3\tэтом\tэто\tPRON\t_\tAnimacy=Inan|Case=Loc|Gender=Neut|Number=Sing\t6\tobl\t_\t_\n",
            "\n",
            "4\tв\tв\tADP\t_\t_\t5\tcase\t_\tSpacesAfter= \n",
            "\n",
            "5\tлитературе\tлитература\tNOUN\t_\tAnimacy=Inan|Case=Loc|Gender=Fem|Number=Sing\t6\tobl\t_\t_\n",
            "\n",
            "6\tотмечается\tотмечать\tVERB\t_\tAspect=Imp|Mood=Ind|Number=Sing|Person=3|Tense=Pres|VerbForm=Fin|Voice=Pass\t0\troot\t_\t_\n",
            "\n",
            "7\tчто\tчто\tSCONJ\t_\t_\t17\tmark\t_\t_\n",
            "\n",
            "8\tсам\tсам\tADJ\t_\tCase=Nom|Degree=Pos|Gender=Masc|Number=Sing\t9\tamod\t_\t_\n",
            "\n",
            "9\tкризис\tкризис\tNOUN\t_\tAnimacy=Inan|Case=Nom|Gender=Masc|Number=Sing\t17\tnsubj:pass\t_\t_\n",
            "\n",
            "10\tгосударственных\tгосударственный\tADJ\t_\tCase=Gen|Degree=Pos|Number=Plur\t11\tamod\t_\t_\n",
            "\n",
            "11\tфинансов\tфинансы\tNOUN\t_\tAnimacy=Inan|Case=Gen|Gender=Masc|Number=Plur\t9\tnmod\t_\t_\n",
            "\n",
            "12\tи\tи\tCCONJ\t_\t_\t13\tcc\t_\tSpacesAfter= \\s\n",
            "\n",
            "13\tпроблемы\tпроблема\tNOUN\t_\tAnimacy=Inan|Case=Gen|Gender=Fem|Number=Sing\t11\tconj\t_\t_\n",
            "\n",
            "14\tплатежного\tплатежный\tADJ\t_\tCase=Gen|Degree=Pos|Gender=Masc|Number=Sing\t15\tamod\t_\t_\n",
            "\n",
            "15\tбаланса\tбаланс\tNOUN\t_\tAnimacy=Inan|Case=Gen|Gender=Masc|Number=Sing\t13\tnmod\t_\t_\n",
            "\n",
            "16\tбыли\tбыть\tAUX\t_\tAspect=Imp|Mood=Ind|Number=Plur|Tense=Past|VerbForm=Fin|Voice=Act\t17\taux:pass\t_\t_\n",
            "\n",
            "17\tвызваны\tвызвать\tVERB\t_\tAspect=Perf|Number=Plur|Tense=Past|Variant=Short|VerbForm=Part|Voice=Pass\t6\tccomp\t_\t_\n",
            "\n"
          ],
          "name": "stdout"
        }
      ]
    },
    {
      "cell_type": "code",
      "metadata": {
        "id": "OYuoQ3fwOfu-",
        "colab_type": "code",
        "colab": {}
      },
      "source": [
        "# Извлекаем слова\n",
        "def get_words(tree):\n",
        "  words = []\n",
        "  for sentence in tree:\n",
        "    for token in sentence:\n",
        "      if token['form'] != '_' and token['upostag'] != '_' and token['upostag']!='NONLEX' and token['form'] not in r'[]\\/':\n",
        "        for wordform in token['form'].lower().split():\n",
        "          words.append((wordform, token['upostag']))\n",
        "  return words # arr of tuples"
      ],
      "execution_count": 0,
      "outputs": []
    },
    {
      "cell_type": "code",
      "metadata": {
        "id": "ZJO0UJ86I2lu",
        "colab_type": "code",
        "colab": {}
      },
      "source": [
        "def get_ngrams(words, n):\n",
        "    # arr of tuples, int\n",
        "    ngrams = []\n",
        "    if n == 1:\n",
        "        for i in words:\n",
        "            if i[1] != 'SENT':\n",
        "                ngrams.append(i)\n",
        "    else:\n",
        "      \n",
        "        for i in range(len(words) - n):\n",
        "            ngram = words[i:(i + n)]\n",
        "            for tup in ngram:\n",
        "                if tup[1]=='SENT':\n",
        "                    ngram.clear()\n",
        "                    break\n",
        "            if ngram:\n",
        "                word = ''\n",
        "                tag = ''\n",
        "                for tup in ngram:\n",
        "                  # хз, насколько осмысленно собирать их в строку с пробелами, а не в массив\n",
        "                  word = word + tup[0] + ' '\n",
        "                  tag = tag + tup[1] + ' '\n",
        "                ngrams.append((word[:-1], tag[:-1]))\n",
        "    return ngrams #arr of tuples of two strings"
      ],
      "execution_count": 0,
      "outputs": []
    },
    {
      "cell_type": "code",
      "metadata": {
        "id": "ARyTLjLxWEvZ",
        "colab_type": "code",
        "outputId": "8ed57d92-576f-40cf-9832-9b3818f41e82",
        "colab": {
          "base_uri": "https://localhost:8080/",
          "height": 54
        }
      },
      "source": [
        "words = get_words(tree)\n",
        "corpus_len = len(words)"
      ],
      "execution_count": 0,
      "outputs": [
        {
          "output_type": "stream",
          "text": [
            "[('страницы', 'NOUN'), ('молодых', 'ADJ'), ('ученых', 'ADJ'), ('ю.', 'PROPN'), ('м.', 'PROPN'), ('дегтяревапроблема', 'NOUN'), ('использования', 'NOUN'), ('непрограммной', 'ADJ'), ('музыки', 'NOUN'), ('в', 'ADP'), ('процессе', 'NOUN'), ('обучения', 'NOUN'), ('в', 'ADP'), ('основной', 'ADJ'), ('школестатья', 'NOUN'), ('посвящена', 'VERB'), ('проблеме', 'NOUN'), ('восприятия', 'NOUN'), ('непрограммной', 'ADJ'), ('музыки', 'NOUN'), ('подростками', 'NOUN'), ('в', 'ADP'), ('условиях', 'NOUN'), ('урока', 'NOUN'), ('музыки', 'NOUN'), ('в', 'ADP'), ('общеобразовательной', 'ADJ'), ('школе', 'NOUN'), ('.', 'PUNCT'), ('автор', 'NOUN')]\n"
          ],
          "name": "stdout"
        }
      ]
    },
    {
      "cell_type": "code",
      "metadata": {
        "id": "DWaXJJIpWQHL",
        "colab_type": "code",
        "colab": {}
      },
      "source": [
        "import os\n",
        "import pandas as pd\n",
        "from pandas import ExcelWriter\n",
        "import datrie\n",
        "import math\n",
        "\n",
        "def make_sheet(n, domain, goal):\n",
        "  names = {1: 'unigrams', 2: 'bigrams', 3: 'trigrams', 4: 'quadrograms', 5: 'fivegrams', 6: 'sixgrams'}\n",
        "  if n == 1:\n",
        "    make_unigrams(domain)\n",
        "  else:\n",
        "    try:\n",
        "      n_freq = datrie.Trie.load(names[n])\n",
        "    except:\n",
        "      ngrams = get_ngrams(words, n)\n",
        "      ngrams_counts = collections.Counter(ngrams)\n",
        "      n_freq = freq_trie(ngrams_counts)\n",
        "      n_freq.save(domain + names[n])\n",
        "      n_freq = datrie.Trie.load(names[n])\n",
        "    n_1freq = datrie.Trie.load(names[n-1])\n",
        "    df = counts_table(n_freq, n_1freq)\n",
        "    with ExcelWriter(goal + domain +'.xlsx') as writer:\n",
        "      df.to_excel(writer, sheet_name=names[n])\n",
        "path = '/content/gdrive/My Drive/Новые conll по доменам/NewVers'\n",
        "\n",
        "domains = [i for i in os.listdir(path) if os.path.isfile(path + i)]\n",
        "goal = path + 'Domains_collocations/'\n",
        "for domain in domains:\n",
        "  domain_tree = parser(path + domain)\n",
        "  words = get_words(domain_tree)\n",
        "  corpus_len = len(words)\n",
        "  for i in range (1, 7):\n",
        "    make_sheet(i, domain, goal)\n",
        "\n"
      ],
      "execution_count": 0,
      "outputs": []
    },
    {
      "cell_type": "code",
      "metadata": {
        "id": "19PKPpAgcl3k",
        "colab_type": "code",
        "outputId": "57d4f494-be54-49cf-f223-b470b3768da6",
        "colab": {
          "base_uri": "https://localhost:8080/",
          "height": 72
        }
      },
      "source": [
        "print(unigrams[:20])\n",
        "print(bigrams[:20])"
      ],
      "execution_count": 0,
      "outputs": [
        {
          "output_type": "stream",
          "text": [
            "[('страницы', 'NOUN'), ('молодых', 'ADJ'), ('ученых', 'ADJ'), ('ю.', 'PROPN'), ('м.', 'PROPN'), ('дегтяревапроблема', 'NOUN'), ('использования', 'NOUN'), ('непрограммной', 'ADJ'), ('музыки', 'NOUN'), ('в', 'ADP'), ('процессе', 'NOUN'), ('обучения', 'NOUN'), ('в', 'ADP'), ('основной', 'ADJ'), ('школестатья', 'NOUN'), ('посвящена', 'VERB'), ('проблеме', 'NOUN'), ('восприятия', 'NOUN'), ('непрограммной', 'ADJ'), ('музыки', 'NOUN')]\n",
            "[('страницы молодых', 'NOUN ADJ'), ('молодых ученых', 'ADJ ADJ'), ('ученых ю.', 'ADJ PROPN'), ('ю. м.', 'PROPN PROPN'), ('м. дегтяревапроблема', 'PROPN NOUN'), ('дегтяревапроблема использования', 'NOUN NOUN'), ('использования непрограммной', 'NOUN ADJ'), ('непрограммной музыки', 'ADJ NOUN'), ('музыки в', 'NOUN ADP'), ('в процессе', 'ADP NOUN'), ('процессе обучения', 'NOUN NOUN'), ('обучения в', 'NOUN ADP'), ('в основной', 'ADP ADJ'), ('основной школестатья', 'ADJ NOUN'), ('школестатья посвящена', 'NOUN VERB'), ('посвящена проблеме', 'VERB NOUN'), ('проблеме восприятия', 'NOUN NOUN'), ('восприятия непрограммной', 'NOUN ADJ'), ('непрограммной музыки', 'ADJ NOUN'), ('музыки подростками', 'NOUN NOUN')]\n"
          ],
          "name": "stdout"
        }
      ]
    },
    {
      "cell_type": "code",
      "metadata": {
        "id": "4YxW8bIgWwHG",
        "colab_type": "code",
        "colab": {}
      },
      "source": [
        "# На всякий случай, чтобы ничего не терялось\n",
        "def save_ngram(ngram, filename):\n",
        "  ngram_lines = []\n",
        "  for tup in ngram:\n",
        "    tupline = tup[0] + '!' + tup[1]\n",
        "    ngram_lines.append(tupline)\n",
        "  for line in ngram_lines:\n",
        "    with open(filename, 'a', encoding='utf-8') as f:\n",
        "      f.write(line)\n",
        "  print('Done!')\n",
        "  \n",
        "def load_ngram(filename):\n",
        "  with open(filename, 'r', encoding='utf-8') as f:\n",
        "    ngramlines = f.readlines()\n",
        "  ngram = [tupline.split('!') for tupline in ngramlines]\n",
        "  return ngram "
      ],
      "execution_count": 0,
      "outputs": []
    },
    {
      "cell_type": "code",
      "metadata": {
        "id": "f5i9I4oEmyWu",
        "colab_type": "code",
        "colab": {}
      },
      "source": [
        "ngr = [unigrams, bigrams]\n",
        "for i in ngr:\n",
        "  save_ngram(i, cat_conllu + 'PsyEdu' + str(i))\n",
        "  print('Done')"
      ],
      "execution_count": 0,
      "outputs": []
    },
    {
      "cell_type": "code",
      "metadata": {
        "id": "Q2Nh8_PUZ8Sh",
        "colab_type": "code",
        "colab": {}
      },
      "source": [
        "unigram_counts = collections.Counter(unigrams)\n",
        "bigram_counts = collections.Counter(bigrams)\n",
        "# trigram_counts = collections.Counter(trigrams)\n",
        "# quadrogram_counts = collections.Counter(quadrograms)\n",
        "# fivegram_counts = collections.Counter(fivegrams)\n",
        "# sixgram_counts = collections.Counter(sixgrams)"
      ],
      "execution_count": 0,
      "outputs": []
    },
    {
      "cell_type": "code",
      "metadata": {
        "id": "osBKpMoeRQyw",
        "colab_type": "code",
        "outputId": "0e6a73e1-9905-4478-b326-04fc5d1f7096",
        "colab": {
          "base_uri": "https://localhost:8080/",
          "height": 190
        }
      },
      "source": [
        "pip install datrie"
      ],
      "execution_count": 0,
      "outputs": [
        {
          "output_type": "stream",
          "text": [
            "Collecting datrie\n",
            "\u001b[?25l  Downloading https://files.pythonhosted.org/packages/44/5f/bf7e4711f6aa95edb2216b3487eeac719645802259643d341668e65636db/datrie-0.7.1.tar.gz (193kB)\n",
            "\r\u001b[K    5% |█▊                              | 10kB 15.3MB/s eta 0:00:01\r\u001b[K    10% |███▍                            | 20kB 3.3MB/s eta 0:00:01\r\u001b[K    15% |█████                           | 30kB 4.7MB/s eta 0:00:01\r\u001b[K    21% |██████▊                         | 40kB 3.1MB/s eta 0:00:01\r\u001b[K    26% |████████▌                       | 51kB 3.8MB/s eta 0:00:01\r\u001b[K    31% |██████████▏                     | 61kB 4.4MB/s eta 0:00:01\r\u001b[K    37% |███████████▉                    | 71kB 5.0MB/s eta 0:00:01\r\u001b[K    42% |█████████████▌                  | 81kB 5.7MB/s eta 0:00:01\r\u001b[K    47% |███████████████▎                | 92kB 6.3MB/s eta 0:00:01\r\u001b[K    52% |█████████████████               | 102kB 5.0MB/s eta 0:00:01\r\u001b[K    58% |██████████████████▋             | 112kB 5.1MB/s eta 0:00:01\r\u001b[K    63% |████████████████████▎           | 122kB 6.9MB/s eta 0:00:01\r\u001b[K    68% |██████████████████████          | 133kB 6.9MB/s eta 0:00:01\r\u001b[K    74% |███████████████████████▊        | 143kB 12.4MB/s eta 0:00:01\r\u001b[K    79% |█████████████████████████▍      | 153kB 12.7MB/s eta 0:00:01\r\u001b[K    84% |███████████████████████████     | 163kB 12.8MB/s eta 0:00:01\r\u001b[K    89% |████████████████████████████▉   | 174kB 13.0MB/s eta 0:00:01\r\u001b[K    95% |██████████████████████████████▌ | 184kB 13.1MB/s eta 0:00:01\r\u001b[K    100% |████████████████████████████████| 194kB 10.6MB/s \n",
            "\u001b[?25hBuilding wheels for collected packages: datrie\n",
            "  Building wheel for datrie (setup.py) ... \u001b[?25ldone\n",
            "\u001b[?25h  Stored in directory: /root/.cache/pip/wheels/2b/8b/31/fe6fb3dd47e34a4b8cb7505c501676f962f733f0ed9885ede7\n",
            "Successfully built datrie\n",
            "Installing collected packages: datrie\n",
            "Successfully installed datrie-0.7.1\n"
          ],
          "name": "stdout"
        }
      ]
    },
    {
      "cell_type": "code",
      "metadata": {
        "id": "Gb2N30YmgurA",
        "colab_type": "code",
        "colab": {}
      },
      "source": [
        "import datrie\n",
        "import math"
      ],
      "execution_count": 0,
      "outputs": []
    },
    {
      "cell_type": "markdown",
      "metadata": {
        "id": "KTMx6WveaI0v",
        "colab_type": "text"
      },
      "source": [
        ""
      ]
    },
    {
      "cell_type": "code",
      "metadata": {
        "id": "QFqAz_vMgzG5",
        "colab_type": "code",
        "colab": {}
      },
      "source": [
        "\n",
        "small=1e-20\n",
        "def freq_trie(ngrams):\n",
        "    trie = datrie.Trie('йцукенгшщзхъфывапролджэячсмитьбюё -,:;/ MNBVCXZLKJHGFDSAPOIUYTREWQ')\n",
        "    for i in ngrams.items():\n",
        "        trie[i[0][0] + '/' + i[0][1]] = float(i[1]) + small\n",
        "    return trie"
      ],
      "execution_count": 0,
      "outputs": []
    },
    {
      "cell_type": "code",
      "metadata": {
        "id": "gs29PJyNedxx",
        "colab_type": "code",
        "colab": {}
      },
      "source": [
        ""
      ],
      "execution_count": 0,
      "outputs": []
    },
    {
      "cell_type": "code",
      "metadata": {
        "id": "Pe3DlBuQdzAr",
        "colab_type": "code",
        "outputId": "bfc4b29d-084c-4b40-9545-650c5789800b",
        "colab": {
          "base_uri": "https://localhost:8080/",
          "height": 231
        }
      },
      "source": [
        "uni_freq = freq_trie(unigram_counts)\n",
        "uni_freq.save('unigram')\n",
        "bi_freq = freq_trie(bigram_counts)\n",
        "bi_freq.save('bigram')\n",
        "tri_freq = freq_trie(trigram_counts)\n",
        "tri_freq.save('trigram')\n",
        "quadro_freq = freq_trie(quadrogram_counts)\n",
        "quadro_freq.save('quadrogram')\n",
        "five_freq = freq_trie(fivegram_counts)\n",
        "five_freq.save('fivegram')\n",
        "six_freq = freq_trie(sixgram_counts)\n",
        "six_freq.save('sixgram')"
      ],
      "execution_count": 0,
      "outputs": [
        {
          "output_type": "error",
          "ename": "NameError",
          "evalue": "ignored",
          "traceback": [
            "\u001b[0;31m---------------------------------------------------------------------------\u001b[0m",
            "\u001b[0;31mNameError\u001b[0m                                 Traceback (most recent call last)",
            "\u001b[0;32m<ipython-input-39-0c864daf4adc>\u001b[0m in \u001b[0;36m<module>\u001b[0;34m()\u001b[0m\n\u001b[1;32m      3\u001b[0m \u001b[0mbi_freq\u001b[0m \u001b[0;34m=\u001b[0m \u001b[0mfreq_trie\u001b[0m\u001b[0;34m(\u001b[0m\u001b[0mbigram_counts\u001b[0m\u001b[0;34m)\u001b[0m\u001b[0;34m\u001b[0m\u001b[0;34m\u001b[0m\u001b[0m\n\u001b[1;32m      4\u001b[0m \u001b[0mbi_freq\u001b[0m\u001b[0;34m.\u001b[0m\u001b[0msave\u001b[0m\u001b[0;34m(\u001b[0m\u001b[0;34m'bigram'\u001b[0m\u001b[0;34m)\u001b[0m\u001b[0;34m\u001b[0m\u001b[0;34m\u001b[0m\u001b[0m\n\u001b[0;32m----> 5\u001b[0;31m \u001b[0mtri_freq\u001b[0m \u001b[0;34m=\u001b[0m \u001b[0mfreq_trie\u001b[0m\u001b[0;34m(\u001b[0m\u001b[0mtrigram_counts\u001b[0m\u001b[0;34m)\u001b[0m\u001b[0;34m\u001b[0m\u001b[0;34m\u001b[0m\u001b[0m\n\u001b[0m\u001b[1;32m      6\u001b[0m \u001b[0mtri_freq\u001b[0m\u001b[0;34m.\u001b[0m\u001b[0msave\u001b[0m\u001b[0;34m(\u001b[0m\u001b[0;34m'trigram'\u001b[0m\u001b[0;34m)\u001b[0m\u001b[0;34m\u001b[0m\u001b[0;34m\u001b[0m\u001b[0m\n\u001b[1;32m      7\u001b[0m \u001b[0mquadro_freq\u001b[0m \u001b[0;34m=\u001b[0m \u001b[0mfreq_trie\u001b[0m\u001b[0;34m(\u001b[0m\u001b[0mquadrogram_counts\u001b[0m\u001b[0;34m)\u001b[0m\u001b[0;34m\u001b[0m\u001b[0;34m\u001b[0m\u001b[0m\n",
            "\u001b[0;31mNameError\u001b[0m: name 'trigram_counts' is not defined"
          ]
        }
      ]
    },
    {
      "cell_type": "code",
      "metadata": {
        "id": "a1a3HUO5eIQS",
        "colab_type": "code",
        "outputId": "7b4f783e-ef86-4853-a080-a096a976be59",
        "colab": {
          "base_uri": "https://localhost:8080/",
          "height": 54
        }
      },
      "source": [
        "print(bi_freq.items()[1000:1050])"
      ],
      "execution_count": 0,
      "outputs": [
        {
          "output_type": "stream",
          "text": [
            "[('- контекстного/PUNCT ADJ', 3.0), ('- контекстногообучения/PUNCT NOUN', 1.0), ('- контекстную/PUNCT ADJ', 1.0), ('- контроль/PUNCT NOUN', 1.0), ('- контур/PUNCT NOUN', 2.0), ('- контуров/PUNCT NOUN', 1.0), ('- контуром/PUNCT NOUN', 1.0), ('- конференции/PUNCT NOUN', 1.0), ('- конфликты/PUNCT NOUN', 1.0), ('- конформизм/PUNCT NOUN', 1.0), ('- конформное/PUNCT ADJ', 1.0), ('- концептуальности/PUNCT NOUN', 1.0), ('- концепции/PUNCT NOUN', 16.0), ('- концепцию/PUNCT NOUN', 2.0), ('- концепция/PUNCT NOUN', 1.0), ('- концепцияобучаются/PUNCT VERB', 1.0), ('- координационный/PUNCT ADJ', 1.0), ('- копии/PUNCT NOUN', 1.0), ('- коричневый/PUNCT ADJ', 1.0), ('- корпоративная/PUNCT ADJ', 2.0), ('- корпорации/PUNCT NOUN', 1.0), ('- коррелирует/PUNCT VERB', 2.0), ('- корреляции/PUNCT NOUN', 1.0), ('- корреляционного/PUNCT ADJ', 2.0), ('- корреляционное/PUNCT ADJ', 1.0), ('- корреляционныедедуктивно-корреляционные/PUNCT ADJ', 1.0), ('- корреляционный/PUNCT ADJ', 9.0), ('- корреляционными/PUNCT ADJ', 1.0), ('- корреляционных/PUNCT ADJ', 4.0), ('- космическая/PUNCT ADJ', 1.0), ('- которая/PUNCT PRON', 1.0), ('- которое/PUNCT PRON', 1.0), ('- который/PUNCT PRON', 1.0), ('- коучей/PUNCT PROPN', 1.0), ('- коучинг/PUNCT NOUN', 3.0), ('- коучинга/PUNCT NOUN', 3.0), ('- коучинговое/PUNCT ADJ', 1.0), ('- коучинговому/PUNCT ADJ', 1.0), ('- коучу/PUNCT NOUN', 1.0), ('- коэффициент/PUNCT NOUN', 2.0), ('- коэффициенты/PUNCT NOUN', 2.0), ('- кратность/PUNCT NOUN', 2.0), ('- краулера/PUNCT NOUN', 1.0), ('- краулерами/PUNCT NOUN', 1.0), ('- краулеры/PUNCT NOUN', 1.0), ('- кретных/PUNCT ADJ', 1.0), ('- критериальной/PUNCT ADJ', 1.0), ('- критерием/PUNCT NOUN', 1.0), ('- критерий/PUNCT NOUN', 29.0), ('- критерийстьюдентаиз/PUNCT NOUN', 1.0)]\n"
          ],
          "name": "stdout"
        }
      ]
    },
    {
      "cell_type": "code",
      "metadata": {
        "id": "Ujy5oqwNhpfz",
        "colab_type": "code",
        "colab": {}
      },
      "source": [
        "def L(k, n, x):\n",
        "    return (math.pow(x,k) * math.pow((1 - x), (n - k))) + small"
      ],
      "execution_count": 0,
      "outputs": []
    },
    {
      "cell_type": "code",
      "metadata": {
        "id": "6qRKaOpAi1Ep",
        "colab_type": "code",
        "colab": {}
      },
      "source": [
        "# Делаем датасет с коллокациями по разным мерам\n",
        "# Работает - не трогай!\n",
        "# А оно и не работает, лол\n",
        "import pandas as pd\n",
        "def counts_table(ngram_freq_trie, gram_freq_trie):\n",
        "    ngrams = []\n",
        "    tags = []\n",
        "    freq = []\n",
        "    raw = []\n",
        "    lr = []\n",
        "    pm = []\n",
        "    ts = []\n",
        "    for i in ngram_freq_trie.items():\n",
        "        ngram_words = i[0].split('/')[0]\n",
        "        ngrams.append(ngram_words) # ngram - массив n-грамм\n",
        "        ngram_tags = i[0].split('/')[1]\n",
        "        tags.append(ngram_tags) # массив тэгов\n",
        "        c12 = i[1]\n",
        "        freq.append(i[1])\n",
        "        gram_words = ' '.join(ngram_words.split()[:-1])\n",
        "        gram_tags = ' '.join(ngram_tags.split()[:-1])\n",
        "        c1 = small\n",
        "        try:\n",
        "            c1 = gram_freq_trie[gram_words + '/' + gram_tags]\n",
        "        except:\n",
        "            pass\n",
        "        last_word = ngram_words.split()[-1]\n",
        "        last_tag = ngram_tags.split()[-1]\n",
        "        c2 = small\n",
        "        try:\n",
        "            c2 = uni_freq[last_word + '/' + last_tag]\n",
        "        except:\n",
        "            pass\n",
        "        # Частота встречаемости во всем корпусе\n",
        "        raw_freq = i[1]/corpus_len\n",
        "        raw.append(raw_freq)\n",
        "        # t score\n",
        "        ph0 = (c1 / corpus_len) * (c2 / corpus_len)\n",
        "        ph1 = c12 / corpus_len\n",
        "        t_score = (ph1 - ph0) / math.sqrt(ph1 / corpus_len)\n",
        "        ts.append(t_score)\n",
        "        \n",
        "        pp12 = c12 / corpus_len\n",
        "        pp1 = c1 / corpus_len\n",
        "        pp2 = c2 / corpus_len\n",
        "        pmi = math.log(pp12/(pp1*pp2), 2.0)\n",
        "        pm.append(pmi)\n",
        "        \n",
        "        # likelyhood ratio\n",
        "        p = c2 / corpus_len\n",
        "        p1 = c12 / c1\n",
        "        p2 = (c2 - c12) / (corpus_len - c1)\n",
        "        lik_rat = -2*(math.log(L(c12,c1,p)) + math.log(L(c2 - c12, corpus_len - c1, p)) - math.log(L(c12, c1, p1)) - math.log(L(c2 - c12, corpus_len - c1, p2)))\n",
        "        lr.append(lik_rat)\n",
        "    df = pd.DataFrame({'ngram':ngrams, 'tag':tags, 'frequency':freq, 'raw frequency':raw, 'likelihood ratio':lr, 'pmi':pm, 't score':ts})\n",
        "    return df\n"
      ],
      "execution_count": 0,
      "outputs": []
    },
    {
      "cell_type": "code",
      "metadata": {
        "id": "yw3Zq3v2r46F",
        "colab_type": "code",
        "colab": {}
      },
      "source": [
        "def make_unigrams(domain):\n",
        "  unigrams = get_ngrams(words, 1)\n",
        "  unigram_counts = collections.Counter(unigrams)\n",
        "  uni_freq = freq_trie(unigram_counts)\n",
        "  uni_freq.save('unigrams')\n",
        "  # uni_freq = datrie.Trie.load('unigram')\n",
        "  uni = []\n",
        "  uni_t = []\n",
        "  uni_f = []\n",
        "  uni_r = []\n",
        "  for i in uni_freq.items():\n",
        "      uni_words = i[0].split('/')[0]\n",
        "      uni.append(uni_words)\n",
        "      uni_tags = i[0].split('/')[1]\n",
        "      uni_t.append(uni_tags)\n",
        "      uni_f.append(i[1])\n",
        "      uni_r.append(i[1]/corpus_len)\n",
        "  uni_df = pd.DataFrame({'ngram':uni, 'tag':uni_t, 'frequency':uni_f, 'raw frequency':uni_r})\n",
        "  with ExcelWriter('/content/gdrive/My Drive/Новые conll по доменам/NewVers/' + domain +'.xlsx') as writer:\n",
        "      uni_df.to_excel(writer, sheet_name='unigrams')"
      ],
      "execution_count": 0,
      "outputs": []
    },
    {
      "cell_type": "code",
      "metadata": {
        "id": "CQ7F_FfZz6XC",
        "colab_type": "code",
        "outputId": "eafc8b7c-550a-4278-f7c3-21220c7c6832",
        "colab": {
          "base_uri": "https://localhost:8080/",
          "height": 452
        }
      },
      "source": [
        "import os\n",
        "\n",
        "def make_sheet(n, domain, goal):\n",
        "  names = {1: 'unigrams', 2: 'bigrams', 3: 'trigrams', 4: 'quadrograms', 5: 'fivegrams', 6: 'sixgrams'}\n",
        "  if n == 1:\n",
        "    make_unigrams(domain)\n",
        "  else:\n",
        "    try:\n",
        "      n_freq = datrie.Trie.load(names[n])\n",
        "    except:\n",
        "      ngrams = get_ngrams(words, n)\n",
        "      ngrams_counts = collections.Counter(ngrams)\n",
        "      n_freq = freq_trie(ngrams_counts)\n",
        "      n_freq.save(domain + names[n])\n",
        "      n_freq = datrie.Trie.load(names[n])\n",
        "    n_1freq = datrie.Trie.load(names[n-1])\n",
        "    df = counts_table(n_freq, n_1freq)\n",
        "    with ExcelWriter(goal + domain +'.xlsx') as writer:\n",
        "      df.to_excel(writer, sheet_name=names[n])\n",
        "path = '/content/gdrive/My Drive/Новые conll по доменам/NewVers/'\n",
        "\n",
        "domains = [i[7:] for i in os.listdir(path) if os.path.isfile(path + i)]\n",
        "goal = path + 'Domains_collocations/'\n",
        "for domain in domains:\n",
        "  for i in range (1, 7):\n",
        "    make_sheet(i, domain, goal)\n"
      ],
      "execution_count": 0,
      "outputs": [
        {
          "output_type": "error",
          "ename": "NameError",
          "evalue": "ignored",
          "traceback": [
            "\u001b[0;31m---------------------------------------------------------------------------\u001b[0m",
            "\u001b[0;31mNameError\u001b[0m                                 Traceback (most recent call last)",
            "\u001b[0;32m<ipython-input-13-4ca9d46e813a>\u001b[0m in \u001b[0;36m<module>\u001b[0;34m()\u001b[0m\n\u001b[1;32m      6\u001b[0m \u001b[0;32mfor\u001b[0m \u001b[0mdomain\u001b[0m \u001b[0;32min\u001b[0m \u001b[0mdomains\u001b[0m\u001b[0;34m:\u001b[0m\u001b[0;34m\u001b[0m\u001b[0;34m\u001b[0m\u001b[0m\n\u001b[1;32m      7\u001b[0m   \u001b[0;32mfor\u001b[0m \u001b[0mi\u001b[0m \u001b[0;32min\u001b[0m \u001b[0mrange\u001b[0m \u001b[0;34m(\u001b[0m\u001b[0;36m1\u001b[0m\u001b[0;34m,\u001b[0m \u001b[0;36m7\u001b[0m\u001b[0;34m)\u001b[0m\u001b[0;34m:\u001b[0m\u001b[0;34m\u001b[0m\u001b[0;34m\u001b[0m\u001b[0m\n\u001b[0;32m----> 8\u001b[0;31m     \u001b[0mmake_sheet\u001b[0m\u001b[0;34m(\u001b[0m\u001b[0mi\u001b[0m\u001b[0;34m,\u001b[0m \u001b[0mdomain\u001b[0m\u001b[0;34m,\u001b[0m \u001b[0mgoal\u001b[0m\u001b[0;34m)\u001b[0m\u001b[0;34m\u001b[0m\u001b[0;34m\u001b[0m\u001b[0m\n\u001b[0m\u001b[1;32m      9\u001b[0m \u001b[0;34m\u001b[0m\u001b[0m\n",
            "\u001b[0;32m<ipython-input-1-503b52dd717f>\u001b[0m in \u001b[0;36mmake_sheet\u001b[0;34m(n, domain, goal)\u001b[0m\n\u001b[1;32m      2\u001b[0m   \u001b[0mnames\u001b[0m \u001b[0;34m=\u001b[0m \u001b[0;34m{\u001b[0m\u001b[0;36m1\u001b[0m\u001b[0;34m:\u001b[0m \u001b[0;34m'unigrams'\u001b[0m\u001b[0;34m,\u001b[0m \u001b[0;36m2\u001b[0m\u001b[0;34m:\u001b[0m \u001b[0;34m'bigrams'\u001b[0m\u001b[0;34m,\u001b[0m \u001b[0;36m3\u001b[0m\u001b[0;34m:\u001b[0m \u001b[0;34m'trigrams'\u001b[0m\u001b[0;34m,\u001b[0m \u001b[0;36m4\u001b[0m\u001b[0;34m:\u001b[0m \u001b[0;34m'quadrograms'\u001b[0m\u001b[0;34m,\u001b[0m \u001b[0;36m5\u001b[0m\u001b[0;34m:\u001b[0m \u001b[0;34m'fivegrams'\u001b[0m\u001b[0;34m,\u001b[0m \u001b[0;36m6\u001b[0m\u001b[0;34m:\u001b[0m \u001b[0;34m'sixgrams'\u001b[0m\u001b[0;34m}\u001b[0m\u001b[0;34m\u001b[0m\u001b[0;34m\u001b[0m\u001b[0m\n\u001b[1;32m      3\u001b[0m   \u001b[0;32mif\u001b[0m \u001b[0mn\u001b[0m \u001b[0;34m==\u001b[0m \u001b[0;36m1\u001b[0m\u001b[0;34m:\u001b[0m\u001b[0;34m\u001b[0m\u001b[0;34m\u001b[0m\u001b[0m\n\u001b[0;32m----> 4\u001b[0;31m     \u001b[0mmake_unigrams\u001b[0m\u001b[0;34m(\u001b[0m\u001b[0mdomain\u001b[0m\u001b[0;34m)\u001b[0m\u001b[0;34m\u001b[0m\u001b[0;34m\u001b[0m\u001b[0m\n\u001b[0m\u001b[1;32m      5\u001b[0m   \u001b[0;32melse\u001b[0m\u001b[0;34m:\u001b[0m\u001b[0;34m\u001b[0m\u001b[0;34m\u001b[0m\u001b[0m\n\u001b[1;32m      6\u001b[0m     \u001b[0;32mtry\u001b[0m\u001b[0;34m:\u001b[0m\u001b[0;34m\u001b[0m\u001b[0;34m\u001b[0m\u001b[0m\n",
            "\u001b[0;32m<ipython-input-12-b4aebbd9cdfe>\u001b[0m in \u001b[0;36mmake_unigrams\u001b[0;34m(domain)\u001b[0m\n\u001b[1;32m      1\u001b[0m \u001b[0;32mdef\u001b[0m \u001b[0mmake_unigrams\u001b[0m\u001b[0;34m(\u001b[0m\u001b[0mdomain\u001b[0m\u001b[0;34m)\u001b[0m\u001b[0;34m:\u001b[0m\u001b[0;34m\u001b[0m\u001b[0;34m\u001b[0m\u001b[0m\n\u001b[0;32m----> 2\u001b[0;31m   \u001b[0munigrams\u001b[0m \u001b[0;34m=\u001b[0m \u001b[0mget_ngrams\u001b[0m\u001b[0;34m(\u001b[0m\u001b[0mwords\u001b[0m\u001b[0;34m,\u001b[0m \u001b[0;36m1\u001b[0m\u001b[0;34m)\u001b[0m\u001b[0;34m\u001b[0m\u001b[0;34m\u001b[0m\u001b[0m\n\u001b[0m\u001b[1;32m      3\u001b[0m   \u001b[0munigram_counts\u001b[0m \u001b[0;34m=\u001b[0m \u001b[0mcollections\u001b[0m\u001b[0;34m.\u001b[0m\u001b[0mCounter\u001b[0m\u001b[0;34m(\u001b[0m\u001b[0munigrams\u001b[0m\u001b[0;34m)\u001b[0m\u001b[0;34m\u001b[0m\u001b[0;34m\u001b[0m\u001b[0m\n\u001b[1;32m      4\u001b[0m   \u001b[0muni_freq\u001b[0m \u001b[0;34m=\u001b[0m \u001b[0mfreq_trie\u001b[0m\u001b[0;34m(\u001b[0m\u001b[0munigram_counts\u001b[0m\u001b[0;34m)\u001b[0m\u001b[0;34m\u001b[0m\u001b[0;34m\u001b[0m\u001b[0m\n\u001b[1;32m      5\u001b[0m   \u001b[0muni_freq\u001b[0m\u001b[0;34m.\u001b[0m\u001b[0msave\u001b[0m\u001b[0;34m(\u001b[0m\u001b[0;34m'unigrams'\u001b[0m\u001b[0;34m)\u001b[0m\u001b[0;34m\u001b[0m\u001b[0;34m\u001b[0m\u001b[0m\n",
            "\u001b[0;31mNameError\u001b[0m: name 'get_ngrams' is not defined"
          ]
        }
      ]
    },
    {
      "cell_type": "code",
      "metadata": {
        "id": "U5tXW5OSvqY4",
        "colab_type": "code",
        "colab": {}
      },
      "source": [
        "def make_sheet(n, domain, goal):\n",
        "  names = {1: 'unigrams', 2: 'bigrams', 3: 'trigrams', 4: 'quadrograms', 5: 'fivegrams', 6: 'sixgrams'}\n",
        "  if n == 1:\n",
        "    make_unigrams(domain)\n",
        "  else:\n",
        "    try:\n",
        "      n_freq = datrie.Trie.load(names[n])\n",
        "    except:\n",
        "      ngrams = get_ngrams(words, n)\n",
        "      ngrams_counts = collections.Counter(ngrams)\n",
        "      n_freq = freq_trie(ngrams_counts)\n",
        "      n_freq.save(domain + names[n])\n",
        "      n_freq = datrie.Trie.load(names[n])\n",
        "    n_1freq = datrie.Trie.load(names[n-1])\n",
        "    df = counts_table(n_freq, n_1freq)\n",
        "    with ExcelWriter(goal + domain +'.xlsx') as writer:\n",
        "      df.to_excel(writer, sheet_name=names[n])"
      ],
      "execution_count": 0,
      "outputs": []
    },
    {
      "cell_type": "code",
      "metadata": {
        "id": "QBbYojKi3nsa",
        "colab_type": "code",
        "colab": {}
      },
      "source": [
        ""
      ],
      "execution_count": 0,
      "outputs": []
    },
    {
      "cell_type": "code",
      "metadata": {
        "id": "g9kgkOwpuKfc",
        "colab_type": "code",
        "colab": {}
      },
      "source": [
        "from pandas import ExcelWriter"
      ],
      "execution_count": 0,
      "outputs": []
    },
    {
      "cell_type": "code",
      "metadata": {
        "id": "RwFh-DDPuOdp",
        "colab_type": "code",
        "colab": {}
      },
      "source": [
        "with ExcelWriter('/content/gdrive/My Drive/Новые conll по доменам/NewVers/PsyEdu.xlsx') as writer:\n",
        "    counts_table(bi_freq, uni_freq).to_excel(writer, sheet_name='bigrams')"
      ],
      "execution_count": 0,
      "outputs": []
    },
    {
      "cell_type": "code",
      "metadata": {
        "id": "zq7lqI4TsMrG",
        "colab_type": "code",
        "colab": {}
      },
      "source": [
        "# Засейвить это всё в .xlsx\n",
        "writer = pd.ExcelWriter('/content/gdrive/My Drive/Новые conll по доменам/NewVers/CleanedPsyEdu.xlsx')\n",
        "uni_df.to_excel(writer,'unigrams')\n",
        "counts_table(bi_freq, uni_freq).to_excel(writer,'bigrams')\n",
        "counts_table(tri_freq, bi_freq).to_excel(writer,'trigrams')\n",
        "counts_table(quadro_freq, tri_freq).to_excel(writer,'quadrograms')\n",
        "counts_table(five_freq, quadro_freq).to_excel(writer,'fivegrams')\n",
        "counts_table(six_freq, five_freq).to_excel(writer,'sixgrams')\n",
        "writer.save()\n"
      ],
      "execution_count": 0,
      "outputs": []
    },
    {
      "cell_type": "code",
      "metadata": {
        "id": "HL6293CTfs4e",
        "colab_type": "code",
        "colab": {}
      },
      "source": [
        "from pandas import ExcelWriter"
      ],
      "execution_count": 0,
      "outputs": []
    },
    {
      "cell_type": "code",
      "metadata": {
        "id": "V1D6b-8oag1A",
        "colab_type": "code",
        "colab": {}
      },
      "source": [
        "\n",
        "with ExcelWriter('/content/gdrive/My Drive/Новые conll по доменам/NewVers/PsyEdu.xlsx') as writer:\n",
        "    counts_table(bi_freq, uni_freq).to_excel(writer, sheet_name='bigrams')"
      ],
      "execution_count": 0,
      "outputs": []
    }
  ]
}